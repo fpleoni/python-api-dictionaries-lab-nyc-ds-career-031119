{
 "cells": [
  {
   "cell_type": "markdown",
   "metadata": {},
   "source": [
    "# API Exercises"
   ]
  },
  {
   "cell_type": "markdown",
   "metadata": {},
   "source": [
    "Here are two exercises that involve working with APIs and dictionaries.\n",
    "\n",
    "One is using the Open Brewery API found at https://www.openbrewerydb.org/, and the other is using the API for UK Police Data, found at https://data.police.uk/docs/.\n",
    "\n",
    "You can complete them in either order!\n",
    "\n",
    "Remember that you can create new cells with esc + a or b"
   ]
  },
  {
   "cell_type": "markdown",
   "metadata": {},
   "source": [
    "## Breweries"
   ]
  },
  {
   "cell_type": "markdown",
   "metadata": {},
   "source": [
    "### Q1: Load the first page of results with 50 results per page"
   ]
  },
  {
   "cell_type": "code",
   "execution_count": 1,
   "metadata": {},
   "outputs": [],
   "source": [
    "import json\n",
    "import requests\n",
    "import pandas as pd\n",
    "import numpy as np"
   ]
  },
  {
   "cell_type": "code",
   "execution_count": 2,
   "metadata": {
    "scrolled": true
   },
   "outputs": [
    {
     "name": "stdout",
     "output_type": "stream",
     "text": [
      "200\n"
     ]
    }
   ],
   "source": [
    "url = 'https://api.openbrewerydb.org/breweries?page=1&per_page=50'\n",
    "response = requests.get(url)\n",
    "print(response.status_code)"
   ]
  },
  {
   "cell_type": "code",
   "execution_count": 3,
   "metadata": {},
   "outputs": [
    {
     "name": "stdout",
     "output_type": "stream",
     "text": [
      "[{\"id\":2,\"name\":\"Avondale Brewing Co\",\"brewery_type\":\"micro\",\"street\":\"201 41st St S\",\"city\":\"Birmingham\",\"state\":\"Alabama\",\"postal_code\":\"35222-1932\",\"country\":\"United States\",\"longitude\":\"-86.774322\",\"latitude\":\"33.524521\",\"phone\":\"2057775456\",\"website_url\":\"http://www.avondalebrewing.com\",\"updated_at\":\"2018-08-23T23:19:57.825Z\",\"tag_list\":[]},{\"id\":4,\"name\":\"Band of Brothers Brewing Company\",\"brewery_type\":\"micro\",\"street\":\"1605 23rd Ave\",\"city\":\"Tuscaloosa\",\"state\":\"Alabama\",\"postal_code\":\"35401-4653\",\"country\":\"United States\",\"longitude\":\"-87.5621551272424\",\"latitude\":\"33.1984907123707\",\"phone\":\"2052665137\",\"website_url\":\"http://www.bandofbrosbrewing.com\",\"updated_at\":\"2018-08-23T23:19:59.462Z\",\"tag_list\":[]},{\"id\":44,\"name\":\"Trim Tab Brewing\",\"brewery_type\":\"micro\",\"street\":\"2721 5th Ave S\",\"city\":\"Birmingham\",\"state\":\"Alabama\",\"postal_code\":\"35233-3401\",\"country\":\"United States\",\"longitude\":\"-86.7914000624146\",\"latitude\":\"33.5128492349817\",\"phone\":\"2057030536\",\"website_url\":\"http://www.trimtabbrewing.com\",\"updated_at\":\"2018-08-23T23:20:31.423Z\",\"tag_list\":[]},{\"id\":46,\"name\":\"Yellowhammer Brewery\",\"brewery_type\":\"micro\",\"street\":\"2600 Clinton Ave W\",\"city\":\"Huntsville\",\"state\":\"Alabama\",\"postal_code\":\"35805-3046\",\"country\":\"United States\",\"longitude\":\"-86.5932014\",\"latitude\":\"34.7277523\",\"phone\":\"2569755950\",\"website_url\":\"http://www.yellowhammerbrewery.com\",\"updated_at\":\"2018-08-23T23:20:33.102Z\",\"tag_list\":[]},{\"id\":55,\"name\":\"Bearpaw River Brewing Co\",\"brewery_type\":\"micro\",\"street\":\"4605 E Palmer Wasilla Hwy\",\"city\":\"Wasilla\",\"state\":\"Alaska\",\"postal_code\":\"99654-7679\",\"country\":\"United States\",\"longitude\":\"-149.4127103\",\"latitude\":\"61.5752695\",\"phone\":\"\",\"website_url\":\"http://bearpawriverbrewing.com\",\"updated_at\":\"2018-08-23T23:20:40.743Z\",\"tag_list\":[]},{\"id\":76,\"name\":\"King Street Brewing Co\",\"brewery_type\":\"micro\",\"street\":\"9050 King Street\",\"city\":\"Anchorage\",\"state\":\"Alaska\",\"postal_code\":\"99515\",\"country\":\"United States\",\"longitude\":\"-149.879076042937\",\"latitude\":\"61.1384893547315\",\"phone\":\"9073365464\",\"website_url\":\"http://www.kingstreetbrewing.com\",\"updated_at\":\"2018-08-23T23:20:57.179Z\",\"tag_list\":[]},{\"id\":94,\"name\":\"1912 Brewing\",\"brewery_type\":\"micro\",\"street\":\"2045 N Forbes Blvd Ste 105\",\"city\":\"Tucson\",\"state\":\"Arizona\",\"postal_code\":\"85745-1444\",\"country\":\"United States\",\"longitude\":\"-110.992750525872\",\"latitude\":\"32.2467372722906\",\"phone\":\"5202564851\",\"website_url\":\"http://www.1912brewing.com\",\"updated_at\":\"2018-08-23T23:21:11.302Z\",\"tag_list\":[]},{\"id\":98,\"name\":\"Bad Water Brewing\",\"brewery_type\":\"contract\",\"street\":\"4216 N Brown Ave\",\"city\":\"Scottsdale\",\"state\":\"Arizona\",\"postal_code\":\"85251-3914\",\"country\":\"United States\",\"longitude\":\"-111.924474347826\",\"latitude\":\"33.4972615652174\",\"phone\":\"5207459175\",\"website_url\":\"http://www.badwaterbrewing.com\",\"updated_at\":\"2018-08-23T23:21:15.169Z\",\"tag_list\":[]},{\"id\":104,\"name\":\"BJs Restaurant \\u0026 Brewery - Chandler\",\"brewery_type\":\"brewpub\",\"street\":\"3155 W Chandler Blvd\",\"city\":\"Chandler\",\"state\":\"Arizona\",\"postal_code\":\"85226-5175\",\"country\":\"United States\",\"longitude\":\"-111.911126\",\"latitude\":\"33.3053455\",\"phone\":\"4809170631\",\"website_url\":\"http://www.bjsrestaurants.com\",\"updated_at\":\"2018-08-23T23:21:21.165Z\",\"tag_list\":[]},{\"id\":107,\"name\":\"BlackRock Brewers\",\"brewery_type\":\"micro\",\"street\":\"1664 S Research Loop Ste 200\",\"city\":\"Tucson\",\"state\":\"Arizona\",\"postal_code\":\"85710-6767\",\"country\":\"United States\",\"longitude\":\"-110.821778571134\",\"latitude\":\"32.201608314954\",\"phone\":\"5202073203\",\"website_url\":\"http://www.brb.beer\",\"updated_at\":\"2018-08-23T23:21:23.794Z\",\"tag_list\":[]},{\"id\":127,\"name\":\"Dragoon Brewing Co\",\"brewery_type\":\"micro\",\"street\":\"1859 W Grant Rd Ste 111\",\"city\":\"Tucson\",\"state\":\"Arizona\",\"postal_code\":\"85745-1214\",\"country\":\"United States\",\"longitude\":\"-111.005452051979\",\"latitude\":\"32.2504946147872\",\"phone\":\"5203293606\",\"website_url\":\"http://www.dragoonbrewing.com\",\"updated_at\":\"2018-08-23T23:21:40.563Z\",\"tag_list\":[]},{\"id\":141,\"name\":\"Grand Canyon Brewing Company\",\"brewery_type\":\"micro\",\"street\":\"233 W Route 66\",\"city\":\"Williams\",\"state\":\"Arizona\",\"postal_code\":\"86046-2530\",\"country\":\"United States\",\"longitude\":\"-112.1892168\",\"latitude\":\"35.2500282\",\"phone\":\"8005132072\",\"website_url\":\"http://www.grandcanyonbrewingco.com\",\"updated_at\":\"2018-08-23T23:21:53.397Z\",\"tag_list\":[]},{\"id\":163,\"name\":\"Mudshark Brewing Co\",\"brewery_type\":\"micro\",\"street\":\"210 Swanson Ave\",\"city\":\"Lake Havasu City\",\"state\":\"Arizona\",\"postal_code\":\"86403-0966\",\"country\":\"United States\",\"longitude\":\"-114.342433477881\",\"latitude\":\"34.4689736300844\",\"phone\":\"9284532981\",\"website_url\":\"http://www.mudsharkbrewingco.com\",\"updated_at\":\"2018-08-23T23:22:12.542Z\",\"tag_list\":[]},{\"id\":182,\"name\":\"Richter Aleworks\",\"brewery_type\":\"micro\",\"street\":\"8279 W Lake Pleasant Pkwy Ste 110\",\"city\":\"Peoria\",\"state\":\"Arizona\",\"postal_code\":\"85382-7434\",\"country\":\"United States\",\"longitude\":\"-112.238054093359\",\"latitude\":\"33.6687744976834\",\"phone\":\"6029086553\",\"website_url\":\"http://www.richteraleworks.com\",\"updated_at\":\"2018-08-23T23:22:29.385Z\",\"tag_list\":[]},{\"id\":187,\"name\":\"SanTan Brewing Co\",\"brewery_type\":\"regional\",\"street\":\"8 S San Marcos Pl\",\"city\":\"Chandler\",\"state\":\"Arizona\",\"postal_code\":\"85225-7862\",\"country\":\"United States\",\"longitude\":\"-111.8423459\",\"latitude\":\"33.3032436\",\"phone\":\"4809178700\",\"website_url\":\"http://www.santanbrewing.com\",\"updated_at\":\"2018-08-23T23:22:33.482Z\",\"tag_list\":[]},{\"id\":198,\"name\":\"State 48 Brewery\",\"brewery_type\":\"brewpub\",\"street\":\"13823 W Bell Rd\",\"city\":\"Surprise\",\"state\":\"Arizona\",\"postal_code\":\"85374-3873\",\"country\":\"United States\",\"longitude\":\"-112.357813820157\",\"latitude\":\"33.63822125\",\"phone\":\"6235841095\",\"website_url\":\"\",\"updated_at\":\"2018-08-23T23:22:41.468Z\",\"tag_list\":[]},{\"id\":219,\"name\":\"Wren House Brewing Company\",\"brewery_type\":\"micro\",\"street\":\"2125 N 24th St\",\"city\":\"Phoenix\",\"state\":\"Arizona\",\"postal_code\":\"85008-2713\",\"country\":\"United States\",\"longitude\":\"-112.0301125\",\"latitude\":\"33.516633\",\"phone\":\"6022449184\",\"website_url\":\"http://www.wrenhousebrewing.com\",\"updated_at\":\"2018-08-23T23:22:59.255Z\",\"tag_list\":[]},{\"id\":225,\"name\":\"Brick Oven Pizza Co / Brick \\u0026 Forge Brewing\",\"brewery_type\":\"brewpub\",\"street\":\"2410 Linwood Dr\",\"city\":\"Paragould\",\"state\":\"Arkansas\",\"postal_code\":\"72450-6122\",\"country\":\"United States\",\"longitude\":\"-90.5204797204622\",\"latitude\":\"36.0316358142169\",\"phone\":\"8702364200\",\"website_url\":\"http://www.brickovenpizzacompany.com\",\"updated_at\":\"2018-08-23T23:23:05.438Z\",\"tag_list\":[]},{\"id\":235,\"name\":\"Diamond Bear Brewing Co\",\"brewery_type\":\"micro\",\"street\":\"600 N Broadway St\",\"city\":\"North Little Rock\",\"state\":\"Arkansas\",\"postal_code\":\"72114-5381\",\"country\":\"United States\",\"longitude\":\"-92.2726892120821\",\"latitude\":\"34.7594277548278\",\"phone\":\"5017082739\",\"website_url\":\"http://www.diamondbear.com\",\"updated_at\":\"2018-08-23T23:23:14.931Z\",\"tag_list\":[]},{\"id\":247,\"name\":\"Lost Forty Brewing\",\"brewery_type\":\"micro\",\"street\":\"501 Byrd St\",\"city\":\"Little Rock\",\"state\":\"Arkansas\",\"postal_code\":\"72202\",\"country\":\"United States\",\"longitude\":\"-92.260019\",\"latitude\":\"34.742845\",\"phone\":\"5013197275\",\"website_url\":\"http://www.lost40brewing.com/\",\"updated_at\":\"2018-08-23T23:23:24.018Z\",\"tag_list\":[]},{\"id\":253,\"name\":\"Rapp's Barren Brewing Company\",\"brewery_type\":\"micro\",\"street\":\"1343 E 9th St\",\"city\":\"Mountain Home\",\"state\":\"Arkansas\",\"postal_code\":\"72653-5050\",\"country\":\"United States\",\"longitude\":\"-92.3599724\",\"latitude\":\"36.3326432\",\"phone\":\"8704247288\",\"website_url\":\"http://www.rappsbarrenbrewing.com\",\"updated_at\":\"2018-08-23T23:23:29.428Z\",\"tag_list\":[]},{\"id\":264,\"name\":\"Whistleing Springs Brewing Company / Dark Hills Brewery\",\"brewery_type\":\"planning\",\"street\":\"\",\"city\":\"Lowell\",\"state\":\"Arkansas\",\"postal_code\":\"72745-9294\",\"country\":\"United States\",\"longitude\":\"-94.1307587\",\"latitude\":\"36.2553543\",\"phone\":\"4792836365\",\"website_url\":\"http://www.darkhillsbrew.com\",\"updated_at\":\"2018-08-23T23:23:40.468Z\",\"tag_list\":[]},{\"id\":281,\"name\":\"7 Sisters Brewing Co\",\"brewery_type\":\"brewpub\",\"street\":\"181 Tank Farm Rd Ste 110\",\"city\":\"San Luis Obispo\",\"state\":\"California\",\"postal_code\":\"93401-7082\",\"country\":\"United States\",\"longitude\":\"-120.670637530612\",\"latitude\":\"35.2467277959184\",\"phone\":\"8058687133\",\"website_url\":\"http://www.7sistersbrewing.com\",\"updated_at\":\"2018-08-23T23:23:55.334Z\",\"tag_list\":[]},{\"id\":286,\"name\":\"Abnormal Beer Company\",\"brewery_type\":\"micro\",\"street\":\"16990 Via Tazon Ste 123\",\"city\":\"San Diego\",\"state\":\"California\",\"postal_code\":\"92127-1649\",\"country\":\"United States\",\"longitude\":\"-117.08575\",\"latitude\":\"33.02391\",\"phone\":\"8586182463\",\"website_url\":\"http://abnormalbeer.co\",\"updated_at\":\"2018-08-23T23:24:00.025Z\",\"tag_list\":[]},{\"id\":305,\"name\":\"Altamont Beer Works\",\"brewery_type\":\"micro\",\"street\":\"2402 Research Dr\",\"city\":\"Livermore\",\"state\":\"California\",\"postal_code\":\"94550-3850\",\"country\":\"United States\",\"longitude\":\"-121.721097428074\",\"latitude\":\"37.6783911404914\",\"phone\":\"9254432337\",\"website_url\":\"http://www.altamontbeerworks.com\",\"updated_at\":\"2018-08-23T23:24:16.819Z\",\"tag_list\":[]},{\"id\":329,\"name\":\"Auburn Alehouse\",\"brewery_type\":\"brewpub\",\"street\":\"289 Washington St\",\"city\":\"Auburn\",\"state\":\"California\",\"postal_code\":\"95603-5036\",\"country\":\"United States\",\"longitude\":\"-121.078958250811\",\"latitude\":\"38.8961210674875\",\"phone\":\"5308852537\",\"website_url\":\"http://www.auburnalehouse.com\",\"updated_at\":\"2018-08-23T23:24:41.928Z\",\"tag_list\":[]},{\"id\":333,\"name\":\"Back Street Brewery \\u0026 Tasting Room\",\"brewery_type\":\"micro\",\"street\":\"1884 S Santa Cruz St\",\"city\":\"Anaheim\",\"state\":\"California\",\"postal_code\":\"92805-6726\",\"country\":\"United States\",\"longitude\":\"-117.896089444444\",\"latitude\":\"33.7998367777778\",\"phone\":\"6572364050\",\"website_url\":\"http://www.backstreetbrew.com\",\"updated_at\":\"2018-08-23T23:24:45.724Z\",\"tag_list\":[]},{\"id\":361,\"name\":\"Bear Republic Brewing Co Pub \\u0026 Restaurant - Lakeside\",\"brewery_type\":\"brewpub\",\"street\":\"5000 Roberts Lake Rd\",\"city\":\"Rohnert Park\",\"state\":\"California\",\"postal_code\":\"94928\",\"country\":\"United States\",\"longitude\":\"-122.7101405\",\"latitude\":\"38.3649703\",\"phone\":\"7075852722\",\"website_url\":\"http://bearrepublic.com\",\"updated_at\":\"2018-08-23T23:25:11.314Z\",\"tag_list\":[]},{\"id\":376,\"name\":\"Bird Street Brewing\",\"brewery_type\":\"micro\",\"street\":\"242 Heinlen St\",\"city\":\"Lemoore\",\"state\":\"California\",\"postal_code\":\"93245-2947\",\"country\":\"United States\",\"longitude\":\"-119.784711\",\"latitude\":\"36.3014675555556\",\"phone\":\"5593094649\",\"website_url\":\"http://www.birdstreetbrewing.com\",\"updated_at\":\"2018-08-23T23:25:24.815Z\",\"tag_list\":[]},{\"id\":385,\"name\":\"Black Hammer Brewing\",\"brewery_type\":\"micro\",\"street\":\"544 Bryant St\",\"city\":\"San Francisco\",\"state\":\"California\",\"postal_code\":\"94107-1217\",\"country\":\"United States\",\"longitude\":\"-122.3969947\",\"latitude\":\"37.780655\",\"phone\":\"4155002273\",\"website_url\":\"http://www.blackhammerbrewing.com\",\"updated_at\":\"2018-08-23T23:25:33.033Z\",\"tag_list\":[]},{\"id\":410,\"name\":\"Brewbakers Brewing Co\",\"brewery_type\":\"brewpub\",\"street\":\"219 E Main St\",\"city\":\"Visalia\",\"state\":\"California\",\"postal_code\":\"93291-6355\",\"country\":\"United States\",\"longitude\":\"-119.2906961\",\"latitude\":\"36.3300786\",\"phone\":\"5596272739\",\"website_url\":\"http://www.brewbakersbrewingco.com\",\"updated_at\":\"2018-08-23T23:25:54.818Z\",\"tag_list\":[]},{\"id\":425,\"name\":\"Brewery in Planning - Los Angeles\",\"brewery_type\":\"planning\",\"street\":\"\",\"city\":\"Los Angeles\",\"state\":\"California\",\"postal_code\":\"90049-1620\",\"country\":\"United States\",\"longitude\":\"-118.2427669\",\"latitude\":\"34.0536834\",\"phone\":\"3107796045\",\"website_url\":\"\",\"updated_at\":\"2018-08-23T23:26:04.273Z\",\"tag_list\":[]},{\"id\":430,\"name\":\"Brewery in Planning - San Diego\",\"brewery_type\":\"planning\",\"street\":\"\",\"city\":\"San Diego\",\"state\":\"California\",\"postal_code\":\"92121-4396\",\"country\":\"United States\",\"longitude\":\"-117.1627714\",\"latitude\":\"32.7174209\",\"phone\":\"8588882188\",\"website_url\":\"http://WWW.gravityheights.com\",\"updated_at\":\"2018-08-23T23:26:06.455Z\",\"tag_list\":[]},{\"id\":437,\"name\":\"Brewery Twenty Five\",\"brewery_type\":\"micro\",\"street\":\"106 3rd St\",\"city\":\"Hollister\",\"state\":\"California\",\"postal_code\":\"95023\",\"country\":\"United States\",\"longitude\":\"-121.400836918367\",\"latitude\":\"36.8535938163265\",\"phone\":\"8316367640\",\"website_url\":\"http://www.brewerytwentyfive.com\",\"updated_at\":\"2018-08-23T23:26:09.967Z\",\"tag_list\":[]},{\"id\":456,\"name\":\"Camino Brewing Co LLC\",\"brewery_type\":\"micro\",\"street\":\"718 S 1st St\",\"city\":\"San Jose\",\"state\":\"California\",\"postal_code\":\"95113\",\"country\":\"United States\",\"longitude\":\"-121.882347823612\",\"latitude\":\"37.3253017839889\",\"phone\":\"\",\"website_url\":\"http://www.caminobrewing.com\",\"updated_at\":\"2018-08-23T23:26:25.248Z\",\"tag_list\":[]},{\"id\":479,\"name\":\"Chula Vista Brewery\",\"brewery_type\":\"micro\",\"street\":\"294 Third Ave\",\"city\":\"Chula Vista\",\"state\":\"California\",\"postal_code\":\"91910-2701\",\"country\":\"United States\",\"longitude\":\"-117.080369\",\"latitude\":\"32.641495\",\"phone\":\"6196168806\",\"website_url\":\"http://www.chulavistabrewery.com\",\"updated_at\":\"2018-08-23T23:26:42.768Z\",\"tag_list\":[]},{\"id\":54,\"name\":\"Barnaby Brewing Company\",\"brewery_type\":\"micro\",\"street\":\"206 N Franklin St\",\"city\":\"Juneau\",\"state\":\"Alaska\",\"postal_code\":\"99801-1225\",\"country\":\"United States\",\"longitude\":\"-134.407726539973\",\"latitude\":\"58.3017758843016\",\"phone\":\"9074190916\",\"website_url\":\"http://www.barnabybrew.com\",\"updated_at\":\"2018-08-23T23:20:39.859Z\",\"tag_list\":[]},{\"id\":489,\"name\":\"Cloverdale Ale Company's Ruth McGowan's Brewpub\",\"brewery_type\":\"brewpub\",\"street\":\"131 E 1st St\",\"city\":\"Cloverdale\",\"state\":\"California\",\"postal_code\":\"95425-3701\",\"country\":\"United States\",\"longitude\":\"-123.016572852146\",\"latitude\":\"38.8053232210103\",\"phone\":\"7078949610\",\"website_url\":\"http://www.ruthmcgowansbrewpub.com\",\"updated_at\":\"2018-08-23T23:26:51.276Z\",\"tag_list\":[]},{\"id\":508,\"name\":\"Craftsman Brewing Co\",\"brewery_type\":\"micro\",\"street\":\"1260 Lincoln Ave Ste 100\",\"city\":\"Pasadena\",\"state\":\"California\",\"postal_code\":\"91103-2465\",\"country\":\"United States\",\"longitude\":\"-118.1595567\",\"latitude\":\"34.1674435\",\"phone\":\"6262962537\",\"website_url\":\"http://www.craftsmanbrewing.com\",\"updated_at\":\"2018-08-23T23:27:07.240Z\",\"tag_list\":[]},{\"id\":525,\"name\":\"Devil's Potion Brewing Company LLC\",\"brewery_type\":\"planning\",\"street\":\"\",\"city\":\"Escondido\",\"state\":\"California\",\"postal_code\":\"92026-3187\",\"country\":\"United States\",\"longitude\":\"-117.0814849\",\"latitude\":\"33.1216751\",\"phone\":\"7605329091\",\"website_url\":\"http://www.devilspotion.com\",\"updated_at\":\"2018-08-23T23:27:21.742Z\",\"tag_list\":[]},{\"id\":543,\"name\":\"Dry River Brewing\",\"brewery_type\":\"micro\",\"street\":\"671 S Anderson St\",\"city\":\"Los Angeles\",\"state\":\"California\",\"postal_code\":\"90023-1110\",\"country\":\"United States\",\"longitude\":\"-118.223301521739\",\"latitude\":\"34.0363873913043\",\"phone\":\"2133755235\",\"website_url\":\"http://www.dryriverbrewing.com\",\"updated_at\":\"2018-08-23T23:27:38.017Z\",\"tag_list\":[]},{\"id\":562,\"name\":\"Eight Bridges Brewing\",\"brewery_type\":\"micro\",\"street\":\"332 Earhart Way\",\"city\":\"Livermore\",\"state\":\"California\",\"postal_code\":\"94551-9309\",\"country\":\"United States\",\"longitude\":\"-121.814589292069\",\"latitude\":\"37.6989500360251\",\"phone\":\"9259619160\",\"website_url\":\"http://www.eightbridgesbrewing.com\",\"updated_at\":\"2018-08-23T23:27:54.121Z\",\"tag_list\":[]},{\"id\":573,\"name\":\"Eppig Brewing\",\"brewery_type\":\"micro\",\"street\":\"3052 El Cajon Blvd Ste 103\",\"city\":\"San Diego\",\"state\":\"California\",\"postal_code\":\"92104-1399\",\"country\":\"United States\",\"longitude\":\"-117.128732\",\"latitude\":\"32.755723\",\"phone\":\"6195011840\",\"website_url\":\"http://www.eppigbrewing.com\",\"updated_at\":\"2018-08-23T23:28:03.844Z\",\"tag_list\":[]},{\"id\":574,\"name\":\"Escape Craft Brewery\",\"brewery_type\":\"micro\",\"street\":\"721 Nevada St Ste 401\",\"city\":\"Redlands\",\"state\":\"California\",\"postal_code\":\"92373-8053\",\"country\":\"United States\",\"longitude\":\"-117.217577166632\",\"latitude\":\"34.0603401026307\",\"phone\":\"9097133727\",\"website_url\":\"http://www.escapecraftbrewery.com\",\"updated_at\":\"2018-08-23T23:28:04.869Z\",\"tag_list\":[]},{\"id\":592,\"name\":\"Fieldwork Brewing Co\",\"brewery_type\":\"regional\",\"street\":\"1160 6th St\",\"city\":\"Berkeley\",\"state\":\"California\",\"postal_code\":\"94710-1247\",\"country\":\"United States\",\"longitude\":\"-122.302214696327\",\"latitude\":\"37.88157297059\",\"phone\":\"5108981203\",\"website_url\":\"http://www.fieldworkbrewing.com\",\"updated_at\":\"2018-08-23T23:28:19.100Z\",\"tag_list\":[]},{\"id\":612,\"name\":\"Fort Point Beer Company\",\"brewery_type\":\"regional\",\"street\":\"644 Mason St\",\"city\":\"San Francisco\",\"state\":\"California\",\"postal_code\":\"94129-1600\",\"country\":\"United States\",\"longitude\":\"-122.410227755102\",\"latitude\":\"37.789461244898\",\"phone\":\"4159064021\",\"website_url\":\"http://www.fortpointbeer.com\",\"updated_at\":\"2018-08-23T23:28:36.026Z\",\"tag_list\":[]},{\"id\":615,\"name\":\"Fountainhead Brewing Co\",\"brewery_type\":\"micro\",\"street\":\"4621 24th St\",\"city\":\"Sacramento\",\"state\":\"California\",\"postal_code\":\"95822-1412\",\"country\":\"United States\",\"longitude\":\"-121.483117319123\",\"latitude\":\"38.5332279038371\",\"phone\":\"9162284610\",\"website_url\":\"http://www.fountainheadbrewingco.com\",\"updated_at\":\"2018-08-23T23:28:38.770Z\",\"tag_list\":[]},{\"id\":623,\"name\":\"Geartooth AleWerks\",\"brewery_type\":\"micro\",\"street\":\"1635 S 7th St\",\"city\":\"San Jose\",\"state\":\"California\",\"postal_code\":\"95112-5932\",\"country\":\"United States\",\"longitude\":\"-121.866477333785\",\"latitude\":\"37.315251291037\",\"phone\":\"4084832679\",\"website_url\":\"http://www.geartoothalewerks.com\",\"updated_at\":\"2018-08-23T23:28:45.233Z\",\"tag_list\":[]},{\"id\":633,\"name\":\"Golden State Brewery\",\"brewery_type\":\"micro\",\"street\":\"1252 Memorex Dr\",\"city\":\"Santa Clara\",\"state\":\"California\",\"postal_code\":\"95050-2812\",\"country\":\"United States\",\"longitude\":\"-121.950316757586\",\"latitude\":\"37.3625383916082\",\"phone\":\"4087272337\",\"website_url\":\"http://www.goldenstate.beer\",\"updated_at\":\"2018-08-23T23:28:53.181Z\",\"tag_list\":[]},{\"id\":654,\"name\":\"Hangar 24 Craft Brewery\",\"brewery_type\":\"regional\",\"street\":\"1710 Sessums Dr\",\"city\":\"Redlands\",\"state\":\"California\",\"postal_code\":\"92374-1909\",\"country\":\"United States\",\"longitude\":\"-117.1419134\",\"latitude\":\"34.0831712\",\"phone\":\"9093891400\",\"website_url\":\"http://www.hangar24brewery.com\",\"updated_at\":\"2018-08-23T23:29:10.400Z\",\"tag_list\":[]}]\n"
     ]
    }
   ],
   "source": [
    "print(response.text)"
   ]
  },
  {
   "cell_type": "markdown",
   "metadata": {},
   "source": [
    "### Q2: This is only the first 50 results.  Get the next 50 and put them together."
   ]
  },
  {
   "cell_type": "code",
   "execution_count": 4,
   "metadata": {},
   "outputs": [
    {
     "name": "stdout",
     "output_type": "stream",
     "text": [
      "200\n"
     ]
    }
   ],
   "source": [
    "url_1 = 'https://api.openbrewerydb.org/breweries?page=2&per_page=50'\n",
    "response_1 = requests.get(url_1)\n",
    "print(response_1.status_code)"
   ]
  },
  {
   "cell_type": "code",
   "execution_count": 5,
   "metadata": {},
   "outputs": [
    {
     "name": "stdout",
     "output_type": "stream",
     "text": [
      "[{\"id\":667,\"name\":\"Hermitage Brewing Company\",\"brewery_type\":\"regional\",\"street\":\"1627 S 7th St\",\"city\":\"San Jose\",\"state\":\"California\",\"postal_code\":\"95112-5932\",\"country\":\"United States\",\"longitude\":\"-121.866525688348\",\"latitude\":\"37.3153140881948\",\"phone\":\"4082910966\",\"website_url\":\"http://www.hermitagebrewing.com\",\"updated_at\":\"2018-08-23T23:29:21.773Z\",\"tag_list\":[]},{\"id\":669,\"name\":\"High Water Brewing\",\"brewery_type\":\"proprietor\",\"street\":\"\",\"city\":\"Stockton\",\"state\":\"California\",\"postal_code\":\"95204-2943\",\"country\":\"United States\",\"longitude\":\"-121.2907796\",\"latitude\":\"37.9577016\",\"phone\":\"5304409098\",\"website_url\":\"http://www.highwaterbrewing.com\",\"updated_at\":\"2018-08-23T23:29:23.046Z\",\"tag_list\":[]},{\"id\":682,\"name\":\"Hop Secret Brewing Co\",\"brewery_type\":\"micro\",\"street\":\"162 W Pomona Ave\",\"city\":\"Monrovia\",\"state\":\"California\",\"postal_code\":\"91016-4558\",\"country\":\"United States\",\"longitude\":\"-118.001973040816\",\"latitude\":\"34.134155\",\"phone\":\"\",\"website_url\":\"http://www.hopsecretbrewing.com\",\"updated_at\":\"2018-08-23T23:29:32.990Z\",\"tag_list\":[]},{\"id\":702,\"name\":\"Indian Valley Brewing\",\"brewery_type\":\"micro\",\"street\":\"14 Commercial Blvd Ste 125\",\"city\":\"Novato\",\"state\":\"California\",\"postal_code\":\"94949-6110\",\"country\":\"United States\",\"longitude\":\"-122.535014356985\",\"latitude\":\"38.0682836733387\",\"phone\":\"4153014983\",\"website_url\":\"http://www.indianvalleybrewing.com\",\"updated_at\":\"2018-08-23T23:29:50.056Z\",\"tag_list\":[]},{\"id\":116,\"name\":\"Copper Hop Brewing Co/Copper Hop Ranch\",\"brewery_type\":\"micro\",\"street\":\"\",\"city\":null,\"state\":null,\"postal_code\":null,\"country\":\"United States\",\"longitude\":null,\"latitude\":null,\"phone\":\"\",\"website_url\":\"http://www.copperhopranch.weebly.com\",\"updated_at\":\"2018-07-24T01:32:48.873Z\",\"tag_list\":[]},{\"id\":402,\"name\":\"Border X\",\"brewery_type\":\"planning\",\"street\":\"\",\"city\":null,\"state\":null,\"postal_code\":null,\"country\":\"United States\",\"longitude\":null,\"latitude\":null,\"phone\":\"\",\"website_url\":\"\",\"updated_at\":\"2018-07-24T01:32:52.847Z\",\"tag_list\":[]},{\"id\":717,\"name\":\"Jackrabbit Brewing Co\",\"brewery_type\":\"micro\",\"street\":\"1323 Terminal St\",\"city\":\"West Sacramento\",\"state\":\"California\",\"postal_code\":\"95691-3514\",\"country\":\"United States\",\"longitude\":\"-121.54112\",\"latitude\":\"38.5719882\",\"phone\":\"2096120259\",\"website_url\":\"http://www.jackrabbitbrewingcompany.com\",\"updated_at\":\"2018-08-23T23:58:06.289Z\",\"tag_list\":[]},{\"id\":719,\"name\":\"Jamul Brewing Co. - Production Only\",\"brewery_type\":\"micro\",\"street\":\"3113 Calle Allejandro\",\"city\":\"Jamul\",\"state\":\"California\",\"postal_code\":\"91935-3108\",\"country\":\"United States\",\"longitude\":\"-116.87742\",\"latitude\":\"32.709923\",\"phone\":\"6195179829\",\"website_url\":\"http://www.jamulbrewingco.com\",\"updated_at\":\"2018-08-23T23:58:08.091Z\",\"tag_list\":[]},{\"id\":738,\"name\":\"Karl Strauss Brewing Co - Universal CityWalk\",\"brewery_type\":\"brewpub\",\"street\":\"1000 Universal Studios Blvd\",\"city\":\"Universal City\",\"state\":\"California\",\"postal_code\":\"91608-1008\",\"country\":\"United States\",\"longitude\":\"-118.3529336\",\"latitude\":\"34.1322144\",\"phone\":\"8187532739\",\"website_url\":\"http://www.karlstrauss.com\",\"updated_at\":\"2018-08-23T23:58:24.659Z\",\"tag_list\":[]},{\"id\":760,\"name\":\"Laguna Beach Brewery and Grille\",\"brewery_type\":\"brewpub\",\"street\":\"237 Ocean Ave\",\"city\":\"Laguna Beach\",\"state\":\"California\",\"postal_code\":\"92651-2106\",\"country\":\"United States\",\"longitude\":\"-117.7835382\",\"latitude\":\"33.5427913\",\"phone\":\"9494973381\",\"website_url\":\"http://www.lagunabeachbrewery.net\",\"updated_at\":\"2018-08-23T23:58:43.812Z\",\"tag_list\":[]},{\"id\":763,\"name\":\"Lassen Ale Works @ The Pioneer Saloon\",\"brewery_type\":\"brewpub\",\"street\":\"724 Main St\",\"city\":\"Susanville\",\"state\":\"California\",\"postal_code\":\"96130-4372\",\"country\":\"United States\",\"longitude\":\"-120.6326661\",\"latitude\":\"40.4055904\",\"phone\":\"5302577666\",\"website_url\":\"http://www.lassenaleworks.com\",\"updated_at\":\"2018-08-23T23:58:46.626Z\",\"tag_list\":[]},{\"id\":777,\"name\":\"Libertine Brewing Company\",\"brewery_type\":\"brewpub\",\"street\":\"1234 Broad St\",\"city\":\"San Luis Obispo\",\"state\":\"California\",\"postal_code\":\"93401-3908\",\"country\":\"United States\",\"longitude\":\"-120.6631926\",\"latitude\":\"35.2777052\",\"phone\":\"8057720700\",\"website_url\":\"http://www.libertinebrewing.com\",\"updated_at\":\"2018-08-23T23:58:59.770Z\",\"tag_list\":[]},{\"id\":786,\"name\":\"Long Beach Beer Lab\",\"brewery_type\":\"micro\",\"street\":\"518 W Willow St\",\"city\":\"Long Beach\",\"state\":\"California\",\"postal_code\":\"90806-2831\",\"country\":\"United States\",\"longitude\":\"-118.2156232\",\"latitude\":\"33.8044209\",\"phone\":\"5623413659\",\"website_url\":\"http://www.lbbeer.com\",\"updated_at\":\"2018-08-23T23:59:07.444Z\",\"tag_list\":[]},{\"id\":804,\"name\":\"Magnolia Dogpatch\",\"brewery_type\":\"micro\",\"street\":\"2505 3rd St\",\"city\":\"San Francisco\",\"state\":\"California\",\"postal_code\":\"94107-3112\",\"country\":\"United States\",\"longitude\":\"-122.3880818\",\"latitude\":\"37.7577437\",\"phone\":\"4158647468\",\"website_url\":\"http://www.magnoliasmokestack.com\",\"updated_at\":\"2018-08-23T23:59:22.426Z\",\"tag_list\":[]},{\"id\":809,\"name\":\"Marin Brewing Co\",\"brewery_type\":\"brewpub\",\"street\":\"1809 Larkspur Landing Cir\",\"city\":\"Larkspur\",\"state\":\"California\",\"postal_code\":\"94939-1801\",\"country\":\"United States\",\"longitude\":\"-122.5068874\",\"latitude\":\"37.9458177\",\"phone\":\"4154614677\",\"website_url\":\"http://www.marinbrewing.com\",\"updated_at\":\"2018-08-23T23:59:26.600Z\",\"tag_list\":[]},{\"id\":814,\"name\":\"Mike Hess Brewing - Miramar\",\"brewery_type\":\"micro\",\"street\":\"7955 Silverton Ave Ste 1201\",\"city\":\"San Diego\",\"state\":\"California\",\"postal_code\":\"92126-6357\",\"country\":\"United States\",\"longitude\":\"-117.151828378447\",\"latitude\":\"32.8908008085346\",\"phone\":\"6198876453\",\"website_url\":\"http://www.hessbrewing.com\",\"updated_at\":\"2018-08-23T23:59:31.275Z\",\"tag_list\":[]},{\"id\":831,\"name\":\"Moonraker Brewing Company (Production Facility)\",\"brewery_type\":\"micro\",\"street\":\"2349 Rickenbacker Way\",\"city\":\"Auburn\",\"state\":\"California\",\"postal_code\":\"95602\",\"country\":\"United States\",\"longitude\":\"-121.081368585457\",\"latitude\":\"38.952499158384\",\"phone\":\"5307456816\",\"website_url\":\"\",\"updated_at\":\"2018-08-23T23:59:46.490Z\",\"tag_list\":[]},{\"id\":847,\"name\":\"New English Brewing Co Inc\",\"brewery_type\":\"micro\",\"street\":\"11545 Sorrento Valley Rd Ste 305\",\"city\":\"San Diego\",\"state\":\"California\",\"postal_code\":\"92121-1322\",\"country\":\"United States\",\"longitude\":\"-117.230519\",\"latitude\":\"32.912641\",\"phone\":\"6198578023\",\"website_url\":\"http://www.newenglishbrewing.com\",\"updated_at\":\"2018-08-24T00:00:00.076Z\",\"tag_list\":[]},{\"id\":851,\"name\":\"Nickel Beer Co\",\"brewery_type\":\"micro\",\"street\":\"1485 Hollow Glen Rd\",\"city\":\"Julian\",\"state\":\"California\",\"postal_code\":\"92036\",\"country\":\"United States\",\"longitude\":\"-116.590154368311\",\"latitude\":\"33.0762994189637\",\"phone\":\"7607652337\",\"website_url\":\"http://www.nickelbeerco.com\",\"updated_at\":\"2018-08-24T00:00:03.198Z\",\"tag_list\":[]},{\"id\":865,\"name\":\"Oceanside Brewing Company\",\"brewery_type\":\"micro\",\"street\":\"312 Via Del Norte\",\"city\":\"Oceanside\",\"state\":\"California\",\"postal_code\":\"92058-1232\",\"country\":\"United States\",\"longitude\":\"-117.352957287439\",\"latitude\":\"33.2136973549748\",\"phone\":\"7604537900\",\"website_url\":\"http://www.oceansidebrewingco.com\",\"updated_at\":\"2018-08-24T00:00:15.739Z\",\"tag_list\":[]},{\"id\":884,\"name\":\"Old Stump Brewery\",\"brewery_type\":\"micro\",\"street\":\"2896 Metropolitan Pl\",\"city\":\"Pomona\",\"state\":\"California\",\"postal_code\":\"91767-1854\",\"country\":\"United States\",\"longitude\":\"-117.754146518132\",\"latitude\":\"34.0976380821684\",\"phone\":\"9098609052\",\"website_url\":\"http://www.oldstumpbrewery.com\",\"updated_at\":\"2018-08-24T00:00:31.940Z\",\"tag_list\":[]},{\"id\":897,\"name\":\"Palo Alto Brewing Co\",\"brewery_type\":\"contract\",\"street\":\"1080B La Avenida St\",\"city\":\"Mountain View\",\"state\":\"California\",\"postal_code\":\"94043-1422\",\"country\":\"United States\",\"longitude\":\"-122.071765718906\",\"latitude\":\"37.4132678904411\",\"phone\":\"\",\"website_url\":\"http://www.paloaltobrewing.com\",\"updated_at\":\"2018-08-24T00:00:43.305Z\",\"tag_list\":[]},{\"id\":903,\"name\":\"Pedro Point Brewing\",\"brewery_type\":\"micro\",\"street\":\"55A Bill Drake Way\",\"city\":\"Pacifica\",\"state\":\"California\",\"postal_code\":\"94044\",\"country\":\"United States\",\"longitude\":\"-122.491021666667\",\"latitude\":\"37.6511615833333\",\"phone\":\"6502889149\",\"website_url\":\"http://www.pedropointbrewing.com\",\"updated_at\":\"2018-08-24T00:00:47.756Z\",\"tag_list\":[]},{\"id\":924,\"name\":\"Port Brewing Co / The Lost Abbey\",\"brewery_type\":\"micro\",\"street\":\"155 Mata Way Ste 104\",\"city\":\"San Marcos\",\"state\":\"California\",\"postal_code\":\"92069-2983\",\"country\":\"United States\",\"longitude\":\"-117.149141\",\"latitude\":\"33.141537\",\"phone\":\"8009186816\",\"website_url\":\"http://www.portbrewing.com\",\"updated_at\":\"2018-08-24T00:01:07.397Z\",\"tag_list\":[]},{\"id\":945,\"name\":\"Right Eye Brewing Co\",\"brewery_type\":\"micro\",\"street\":\"301 Spring St\",\"city\":\"Suisun City\",\"state\":\"California\",\"postal_code\":\"94585\",\"country\":\"United States\",\"longitude\":\"-122.041544\",\"latitude\":\"38.242484\",\"phone\":\"7074161347\",\"website_url\":\"http://www.righteyebrewing.com\",\"updated_at\":\"2018-08-24T00:01:27.572Z\",\"tag_list\":[]},{\"id\":964,\"name\":\"Rouleur Brewing Company\",\"brewery_type\":\"micro\",\"street\":\"5840 El Camino Real Ste 101\",\"city\":\"Carlsbad\",\"state\":\"California\",\"postal_code\":\"92008-8804\",\"country\":\"United States\",\"longitude\":\"-117.269558\",\"latitude\":\"33.133904\",\"phone\":\"4422445111\",\"website_url\":\"http://www.rouleurbrewing.com\",\"updated_at\":\"2018-08-24T00:01:45.520Z\",\"tag_list\":[]},{\"id\":990,\"name\":\"Sante Adairius Rustic Ales\",\"brewery_type\":\"micro\",\"street\":\"103 Kennedy Dr\",\"city\":\"Capitola\",\"state\":\"California\",\"postal_code\":\"95010-3641\",\"country\":\"United States\",\"longitude\":\"-121.9405748\",\"latitude\":\"36.9822865\",\"phone\":\"8313454867\",\"website_url\":\"http://www.rusticales.com\",\"updated_at\":\"2018-08-24T00:02:11.049Z\",\"tag_list\":[]},{\"id\":1001,\"name\":\"Sequoia Brewing Co - Tower District\",\"brewery_type\":\"brewpub\",\"street\":\"777 E Olive Ave\",\"city\":\"Fresno\",\"state\":\"California\",\"postal_code\":\"93728-3350\",\"country\":\"United States\",\"longitude\":\"-119.801962153846\",\"latitude\":\"36.7577440769231\",\"phone\":\"5592645521\",\"website_url\":\"http://www.sequoiabrewing.com\",\"updated_at\":\"2018-08-24T00:02:21.148Z\",\"tag_list\":[]},{\"id\":1030,\"name\":\"Sonoma Springs Brewing Co\",\"brewery_type\":\"micro\",\"street\":\"19449 Riverside Dr Ste 101\",\"city\":\"Sonoma\",\"state\":\"California\",\"postal_code\":\"95476-6357\",\"country\":\"United States\",\"longitude\":\"-122.477788\",\"latitude\":\"38.294506\",\"phone\":\"7079387422\",\"website_url\":\"http://www.sonomaspringsbrewing.com\",\"updated_at\":\"2018-08-24T00:02:47.771Z\",\"tag_list\":[]},{\"id\":1035,\"name\":\"South Lake Brewing Company\",\"brewery_type\":\"micro\",\"street\":\"1920 Lake Tahoe Blvd\",\"city\":\"South Lake Tahoe\",\"state\":\"California\",\"postal_code\":\"96150-6307\",\"country\":\"United States\",\"longitude\":\"-120.0074997\",\"latitude\":\"38.9118004\",\"phone\":\"5305780087\",\"website_url\":\"http://www.southlakebeer.com\",\"updated_at\":\"2018-08-24T00:02:52.173Z\",\"tag_list\":[]},{\"id\":1050,\"name\":\"State Room Brewery\",\"brewery_type\":\"brewpub\",\"street\":\"1132 4th St\",\"city\":\"San Rafael\",\"state\":\"California\",\"postal_code\":\"94901-3007\",\"country\":\"United States\",\"longitude\":\"-122.52865849686\",\"latitude\":\"37.9732744779465\",\"phone\":\"4152957929\",\"website_url\":\"http://stateroombrewery.com\",\"updated_at\":\"2018-08-24T00:03:05.588Z\",\"tag_list\":[]},{\"id\":1059,\"name\":\"Stone Brewing World Bistro \\u0026 Gardens- Liberty Station\",\"brewery_type\":\"brewpub\",\"street\":\"2816 Historic Decatur Rd Ste 116\",\"city\":\"San Diego\",\"state\":\"California\",\"postal_code\":\"92106-6164\",\"country\":\"United States\",\"longitude\":\"-117.21157\",\"latitude\":\"32.7405237\",\"phone\":\"6192692200\",\"website_url\":\"http://www.stonelibertystation.com\",\"updated_at\":\"2018-08-24T00:03:14.354Z\",\"tag_list\":[]},{\"id\":1069,\"name\":\"Sufferfest Beer Company\",\"brewery_type\":\"proprietor\",\"street\":\"1770 UNION STREET\",\"city\":\"San Francisco\",\"state\":\"California\",\"postal_code\":\"94123-3404\",\"country\":\"United States\",\"longitude\":\"-122.428394714286\",\"latitude\":\"37.7980748571429\",\"phone\":\"4152386431\",\"website_url\":\"http://www.sufferfestbeer.com\",\"updated_at\":\"2018-08-24T00:03:23.447Z\",\"tag_list\":[]},{\"id\":1081,\"name\":\"Tap and Vine\",\"brewery_type\":\"brewpub\",\"street\":\"907 Lincoln Way\",\"city\":\"Auburn\",\"state\":\"California\",\"postal_code\":\"95603\",\"country\":\"United States\",\"longitude\":\"-121.06949555199\",\"latitude\":\"38.8995673848688\",\"phone\":\"5308898463\",\"website_url\":\"http://www.tapandvineauburn.com\",\"updated_at\":\"2018-08-24T00:03:34.148Z\",\"tag_list\":[]},{\"id\":1085,\"name\":\"TAPS Fish House and Brewery - Brea\",\"brewery_type\":\"brewpub\",\"street\":\"101 E Imperial Hwy\",\"city\":\"Brea\",\"state\":\"California\",\"postal_code\":\"92821-4924\",\"country\":\"United States\",\"longitude\":\"-117.9018387\",\"latitude\":\"33.9171643\",\"phone\":\"7142570101\",\"website_url\":\"http://www.tapsbrea.com\",\"updated_at\":\"2018-08-24T00:03:37.619Z\",\"tag_list\":[]},{\"id\":1101,\"name\":\"The Dancing Fox\",\"brewery_type\":\"brewpub\",\"street\":\"203 S School St\",\"city\":\"Lodi\",\"state\":\"California\",\"postal_code\":\"95240-3511\",\"country\":\"United States\",\"longitude\":\"-121.387849646574\",\"latitude\":\"38.097198\",\"phone\":\"2093662634\",\"website_url\":\"http://www.dancingfoxwinery.com\",\"updated_at\":\"2018-08-24T00:03:51.456Z\",\"tag_list\":[]},{\"id\":1123,\"name\":\"Thunderhawk Alements\",\"brewery_type\":\"micro\",\"street\":\"8675 Miralani Dr Ste 100\",\"city\":\"San Diego\",\"state\":\"California\",\"postal_code\":\"92126-4355\",\"country\":\"United States\",\"longitude\":\"-117.137466970906\",\"latitude\":\"32.8957500613992\",\"phone\":\"6199524832\",\"website_url\":\"http://thunderhawkbeer.com\",\"updated_at\":\"2018-08-24T00:04:11.527Z\",\"tag_list\":[]},{\"id\":1129,\"name\":\"Topa Topa Brewing Co\",\"brewery_type\":\"micro\",\"street\":\"104 E Thompson Blvd\",\"city\":\"Ventura\",\"state\":\"California\",\"postal_code\":\"93001-2723\",\"country\":\"United States\",\"longitude\":\"-119.299444632653\",\"latitude\":\"34.2781592040816\",\"phone\":\"8056289255\",\"website_url\":\"http://www.topatopabrewingco.com\",\"updated_at\":\"2018-08-24T00:04:16.595Z\",\"tag_list\":[]},{\"id\":1137,\"name\":\"Track 7 Brewing Co - Natomas\",\"brewery_type\":\"micro\",\"street\":\"826 Professor Ln Ste 100\",\"city\":\"Sacramento\",\"state\":\"California\",\"postal_code\":\"95834-7743\",\"country\":\"United States\",\"longitude\":\"-121.4908802\",\"latitude\":\"38.6543681\",\"phone\":\"9165204677\",\"website_url\":\"\",\"updated_at\":\"2018-08-24T00:04:22.907Z\",\"tag_list\":[]},{\"id\":1154,\"name\":\"Underground Brewing Co.\",\"brewery_type\":\"brewpub\",\"street\":\"3940 Broad St # 7415\",\"city\":\"San Luis Obispo\",\"state\":\"California\",\"postal_code\":\"93401-7017\",\"country\":\"United States\",\"longitude\":\"-120.6420324\",\"latitude\":\"35.2493387\",\"phone\":\"\",\"website_url\":\"\",\"updated_at\":\"2018-08-24T00:04:37.276Z\",\"tag_list\":[]},{\"id\":1158,\"name\":\"Urban Roots Brewing\",\"brewery_type\":\"brewpub\",\"street\":\"1322 V St\",\"city\":\"Sacramento\",\"state\":\"California\",\"postal_code\":\"95818-1418\",\"country\":\"United States\",\"longitude\":\"-121.49459077551\",\"latitude\":\"38.5657962653061\",\"phone\":\"9167063741\",\"website_url\":\"http://www.urbanrootsbrewing.com\",\"updated_at\":\"2018-08-24T00:04:41.204Z\",\"tag_list\":[]},{\"id\":1177,\"name\":\"Wolf Creek Brewery\",\"brewery_type\":\"micro\",\"street\":\"25108 Rye Canyon Loop\",\"city\":\"Valencia\",\"state\":\"California\",\"postal_code\":\"91355-5004\",\"country\":\"United States\",\"longitude\":\"-118.580786794735\",\"latitude\":\"34.4555624289373\",\"phone\":\"6612639653\",\"website_url\":\"\",\"updated_at\":\"2018-08-24T00:04:58.180Z\",\"tag_list\":[]},{\"id\":155,\"name\":\"Lonesome Valley Brewing\",\"brewery_type\":\"brewpub\",\"street\":\"3040 N Windsong Dr Ste 101\",\"city\":\"Prescott Valley\",\"state\":\"Arizona\",\"postal_code\":\"86314-2250\",\"country\":\"United States\",\"longitude\":null,\"latitude\":null,\"phone\":\"9285153541\",\"website_url\":\"http://www.lonesomevalleybrewing.com\",\"updated_at\":\"2018-08-11T21:35:48.469Z\",\"tag_list\":[]},{\"id\":1180,\"name\":\"Woods Bar \\u0026 Brewery\",\"brewery_type\":\"brewpub\",\"street\":\"1701 Telegraph Ave\",\"city\":\"Oakland\",\"state\":\"California\",\"postal_code\":\"94612-2107\",\"country\":\"United States\",\"longitude\":\"-122.2704253\",\"latitude\":\"37.8069575\",\"phone\":\"4155091695\",\"website_url\":\"http://www.woodsbeer.com\",\"updated_at\":\"2018-08-24T00:05:00.969Z\",\"tag_list\":[]},{\"id\":1182,\"name\":\"Woods CervecerÃ­a\",\"brewery_type\":\"brewpub\",\"street\":\"3801 18th St\",\"city\":\"San Francisco\",\"state\":\"California\",\"postal_code\":\"94114-2615\",\"country\":\"United States\",\"longitude\":\"-122.4285438\",\"latitude\":\"37.761163\",\"phone\":\"4152739295\",\"website_url\":\"http://www.cerveceriasf.com\",\"updated_at\":\"2018-08-24T00:05:03.005Z\",\"tag_list\":[]},{\"id\":1195,\"name\":\"3 Freaks Brewing Co\",\"brewery_type\":\"micro\",\"street\":\"7140 E County Line Rd\",\"city\":\"Highlands Ranch\",\"state\":\"Colorado\",\"postal_code\":\"80126-3926\",\"country\":\"United States\",\"longitude\":\"-104.9426656\",\"latitude\":\"39.5659575\",\"phone\":\"7202990994\",\"website_url\":\"http://www.3freaksbrewery.com\",\"updated_at\":\"2018-08-24T00:05:14.991Z\",\"tag_list\":[]},{\"id\":1222,\"name\":\"Barrels \\u0026 Bottles Brewery\",\"brewery_type\":\"brewpub\",\"street\":\"600 12th St Ste 160\",\"city\":\"Golden\",\"state\":\"Colorado\",\"postal_code\":\"80401-6145\",\"country\":\"United States\",\"longitude\":\"-105.2202098\",\"latitude\":\"39.7562107\",\"phone\":\"7203283643\",\"website_url\":\"http://www.barrelsbottles.com\",\"updated_at\":\"2018-08-24T00:05:36.634Z\",\"tag_list\":[]},{\"id\":1227,\"name\":\"BierWerks\",\"brewery_type\":\"brewpub\",\"street\":\"121 E. Midland Ave\",\"city\":\"Woodland Park\",\"state\":\"Colorado\",\"postal_code\":\"80863\",\"country\":\"United States\",\"longitude\":\"-105.0519462\",\"latitude\":\"38.9941414\",\"phone\":\"7196868100\",\"website_url\":\"http://www.bierwerks.com\",\"updated_at\":\"2018-08-24T00:05:41.424Z\",\"tag_list\":[]},{\"id\":1229,\"name\":\"Big Choice Brewing Co\",\"brewery_type\":\"micro\",\"street\":\"21 S 1st Ave\",\"city\":\"Brighton\",\"state\":\"Colorado\",\"postal_code\":\"80601-1603\",\"country\":\"United States\",\"longitude\":\"-104.822433\",\"latitude\":\"39.9864294285714\",\"phone\":\"3034692616\",\"website_url\":\"http://www.bigchoicebrewing.com\",\"updated_at\":\"2018-08-24T00:05:43.462Z\",\"tag_list\":[]},{\"id\":1333,\"name\":\"Dodgeton Creek Brewing Co.\",\"brewery_type\":\"planning\",\"street\":\"\",\"city\":\"Trinidad\",\"state\":\"Colorado\",\"postal_code\":\"81082-9788\",\"country\":\"United States\",\"longitude\":\"-104.5005411\",\"latitude\":\"37.169397\",\"phone\":\"7198462339\",\"website_url\":\"http://www.dodgetoncreek.com\",\"updated_at\":\"2018-08-24T00:06:57.576Z\",\"tag_list\":[]}]\n"
     ]
    }
   ],
   "source": [
    "print(response_1.text)"
   ]
  },
  {
   "cell_type": "markdown",
   "metadata": {},
   "source": [
    "### Q3: How many of these 100 breweries in are in Alaska?"
   ]
  },
  {
   "cell_type": "code",
   "execution_count": 6,
   "metadata": {},
   "outputs": [
    {
     "data": {
      "text/plain": [
       "dict_keys(['id', 'name', 'brewery_type', 'street', 'city', 'state', 'postal_code', 'country', 'longitude', 'latitude', 'phone', 'website_url', 'updated_at', 'tag_list'])"
      ]
     },
     "execution_count": 6,
     "metadata": {},
     "output_type": "execute_result"
    }
   ],
   "source": [
    "response_json = response.json()\n",
    "response_json[0].keys()"
   ]
  },
  {
   "cell_type": "code",
   "execution_count": 7,
   "metadata": {
    "scrolled": true
   },
   "outputs": [
    {
     "data": {
      "text/plain": [
       "dict_keys(['id', 'name', 'brewery_type', 'street', 'city', 'state', 'postal_code', 'country', 'longitude', 'latitude', 'phone', 'website_url', 'updated_at', 'tag_list'])"
      ]
     },
     "execution_count": 7,
     "metadata": {},
     "output_type": "execute_result"
    }
   ],
   "source": [
    "response_json_1 = response_1.json()\n",
    "response_json_1[0].keys()"
   ]
  },
  {
   "cell_type": "code",
   "execution_count": 8,
   "metadata": {},
   "outputs": [],
   "source": [
    "for r in response_json_1:\n",
    "    response_json.append(r)\n",
    "breweries = response_json"
   ]
  },
  {
   "cell_type": "code",
   "execution_count": 9,
   "metadata": {
    "scrolled": true
   },
   "outputs": [
    {
     "name": "stdout",
     "output_type": "stream",
     "text": [
      "[{'id': 2, 'name': 'Avondale Brewing Co', 'brewery_type': 'micro', 'street': '201 41st St S', 'city': 'Birmingham', 'state': 'Alabama', 'postal_code': '35222-1932', 'country': 'United States', 'longitude': '-86.774322', 'latitude': '33.524521', 'phone': '2057775456', 'website_url': 'http://www.avondalebrewing.com', 'updated_at': '2018-08-23T23:19:57.825Z', 'tag_list': []}, {'id': 4, 'name': 'Band of Brothers Brewing Company', 'brewery_type': 'micro', 'street': '1605 23rd Ave', 'city': 'Tuscaloosa', 'state': 'Alabama', 'postal_code': '35401-4653', 'country': 'United States', 'longitude': '-87.5621551272424', 'latitude': '33.1984907123707', 'phone': '2052665137', 'website_url': 'http://www.bandofbrosbrewing.com', 'updated_at': '2018-08-23T23:19:59.462Z', 'tag_list': []}, {'id': 44, 'name': 'Trim Tab Brewing', 'brewery_type': 'micro', 'street': '2721 5th Ave S', 'city': 'Birmingham', 'state': 'Alabama', 'postal_code': '35233-3401', 'country': 'United States', 'longitude': '-86.7914000624146', 'latitude': '33.5128492349817', 'phone': '2057030536', 'website_url': 'http://www.trimtabbrewing.com', 'updated_at': '2018-08-23T23:20:31.423Z', 'tag_list': []}, {'id': 46, 'name': 'Yellowhammer Brewery', 'brewery_type': 'micro', 'street': '2600 Clinton Ave W', 'city': 'Huntsville', 'state': 'Alabama', 'postal_code': '35805-3046', 'country': 'United States', 'longitude': '-86.5932014', 'latitude': '34.7277523', 'phone': '2569755950', 'website_url': 'http://www.yellowhammerbrewery.com', 'updated_at': '2018-08-23T23:20:33.102Z', 'tag_list': []}, {'id': 55, 'name': 'Bearpaw River Brewing Co', 'brewery_type': 'micro', 'street': '4605 E Palmer Wasilla Hwy', 'city': 'Wasilla', 'state': 'Alaska', 'postal_code': '99654-7679', 'country': 'United States', 'longitude': '-149.4127103', 'latitude': '61.5752695', 'phone': '', 'website_url': 'http://bearpawriverbrewing.com', 'updated_at': '2018-08-23T23:20:40.743Z', 'tag_list': []}, {'id': 76, 'name': 'King Street Brewing Co', 'brewery_type': 'micro', 'street': '9050 King Street', 'city': 'Anchorage', 'state': 'Alaska', 'postal_code': '99515', 'country': 'United States', 'longitude': '-149.879076042937', 'latitude': '61.1384893547315', 'phone': '9073365464', 'website_url': 'http://www.kingstreetbrewing.com', 'updated_at': '2018-08-23T23:20:57.179Z', 'tag_list': []}, {'id': 94, 'name': '1912 Brewing', 'brewery_type': 'micro', 'street': '2045 N Forbes Blvd Ste 105', 'city': 'Tucson', 'state': 'Arizona', 'postal_code': '85745-1444', 'country': 'United States', 'longitude': '-110.992750525872', 'latitude': '32.2467372722906', 'phone': '5202564851', 'website_url': 'http://www.1912brewing.com', 'updated_at': '2018-08-23T23:21:11.302Z', 'tag_list': []}, {'id': 98, 'name': 'Bad Water Brewing', 'brewery_type': 'contract', 'street': '4216 N Brown Ave', 'city': 'Scottsdale', 'state': 'Arizona', 'postal_code': '85251-3914', 'country': 'United States', 'longitude': '-111.924474347826', 'latitude': '33.4972615652174', 'phone': '5207459175', 'website_url': 'http://www.badwaterbrewing.com', 'updated_at': '2018-08-23T23:21:15.169Z', 'tag_list': []}, {'id': 104, 'name': 'BJs Restaurant & Brewery - Chandler', 'brewery_type': 'brewpub', 'street': '3155 W Chandler Blvd', 'city': 'Chandler', 'state': 'Arizona', 'postal_code': '85226-5175', 'country': 'United States', 'longitude': '-111.911126', 'latitude': '33.3053455', 'phone': '4809170631', 'website_url': 'http://www.bjsrestaurants.com', 'updated_at': '2018-08-23T23:21:21.165Z', 'tag_list': []}, {'id': 107, 'name': 'BlackRock Brewers', 'brewery_type': 'micro', 'street': '1664 S Research Loop Ste 200', 'city': 'Tucson', 'state': 'Arizona', 'postal_code': '85710-6767', 'country': 'United States', 'longitude': '-110.821778571134', 'latitude': '32.201608314954', 'phone': '5202073203', 'website_url': 'http://www.brb.beer', 'updated_at': '2018-08-23T23:21:23.794Z', 'tag_list': []}, {'id': 127, 'name': 'Dragoon Brewing Co', 'brewery_type': 'micro', 'street': '1859 W Grant Rd Ste 111', 'city': 'Tucson', 'state': 'Arizona', 'postal_code': '85745-1214', 'country': 'United States', 'longitude': '-111.005452051979', 'latitude': '32.2504946147872', 'phone': '5203293606', 'website_url': 'http://www.dragoonbrewing.com', 'updated_at': '2018-08-23T23:21:40.563Z', 'tag_list': []}, {'id': 141, 'name': 'Grand Canyon Brewing Company', 'brewery_type': 'micro', 'street': '233 W Route 66', 'city': 'Williams', 'state': 'Arizona', 'postal_code': '86046-2530', 'country': 'United States', 'longitude': '-112.1892168', 'latitude': '35.2500282', 'phone': '8005132072', 'website_url': 'http://www.grandcanyonbrewingco.com', 'updated_at': '2018-08-23T23:21:53.397Z', 'tag_list': []}, {'id': 163, 'name': 'Mudshark Brewing Co', 'brewery_type': 'micro', 'street': '210 Swanson Ave', 'city': 'Lake Havasu City', 'state': 'Arizona', 'postal_code': '86403-0966', 'country': 'United States', 'longitude': '-114.342433477881', 'latitude': '34.4689736300844', 'phone': '9284532981', 'website_url': 'http://www.mudsharkbrewingco.com', 'updated_at': '2018-08-23T23:22:12.542Z', 'tag_list': []}, {'id': 182, 'name': 'Richter Aleworks', 'brewery_type': 'micro', 'street': '8279 W Lake Pleasant Pkwy Ste 110', 'city': 'Peoria', 'state': 'Arizona', 'postal_code': '85382-7434', 'country': 'United States', 'longitude': '-112.238054093359', 'latitude': '33.6687744976834', 'phone': '6029086553', 'website_url': 'http://www.richteraleworks.com', 'updated_at': '2018-08-23T23:22:29.385Z', 'tag_list': []}, {'id': 187, 'name': 'SanTan Brewing Co', 'brewery_type': 'regional', 'street': '8 S San Marcos Pl', 'city': 'Chandler', 'state': 'Arizona', 'postal_code': '85225-7862', 'country': 'United States', 'longitude': '-111.8423459', 'latitude': '33.3032436', 'phone': '4809178700', 'website_url': 'http://www.santanbrewing.com', 'updated_at': '2018-08-23T23:22:33.482Z', 'tag_list': []}, {'id': 198, 'name': 'State 48 Brewery', 'brewery_type': 'brewpub', 'street': '13823 W Bell Rd', 'city': 'Surprise', 'state': 'Arizona', 'postal_code': '85374-3873', 'country': 'United States', 'longitude': '-112.357813820157', 'latitude': '33.63822125', 'phone': '6235841095', 'website_url': '', 'updated_at': '2018-08-23T23:22:41.468Z', 'tag_list': []}, {'id': 219, 'name': 'Wren House Brewing Company', 'brewery_type': 'micro', 'street': '2125 N 24th St', 'city': 'Phoenix', 'state': 'Arizona', 'postal_code': '85008-2713', 'country': 'United States', 'longitude': '-112.0301125', 'latitude': '33.516633', 'phone': '6022449184', 'website_url': 'http://www.wrenhousebrewing.com', 'updated_at': '2018-08-23T23:22:59.255Z', 'tag_list': []}, {'id': 225, 'name': 'Brick Oven Pizza Co / Brick & Forge Brewing', 'brewery_type': 'brewpub', 'street': '2410 Linwood Dr', 'city': 'Paragould', 'state': 'Arkansas', 'postal_code': '72450-6122', 'country': 'United States', 'longitude': '-90.5204797204622', 'latitude': '36.0316358142169', 'phone': '8702364200', 'website_url': 'http://www.brickovenpizzacompany.com', 'updated_at': '2018-08-23T23:23:05.438Z', 'tag_list': []}, {'id': 235, 'name': 'Diamond Bear Brewing Co', 'brewery_type': 'micro', 'street': '600 N Broadway St', 'city': 'North Little Rock', 'state': 'Arkansas', 'postal_code': '72114-5381', 'country': 'United States', 'longitude': '-92.2726892120821', 'latitude': '34.7594277548278', 'phone': '5017082739', 'website_url': 'http://www.diamondbear.com', 'updated_at': '2018-08-23T23:23:14.931Z', 'tag_list': []}, {'id': 247, 'name': 'Lost Forty Brewing', 'brewery_type': 'micro', 'street': '501 Byrd St', 'city': 'Little Rock', 'state': 'Arkansas', 'postal_code': '72202', 'country': 'United States', 'longitude': '-92.260019', 'latitude': '34.742845', 'phone': '5013197275', 'website_url': 'http://www.lost40brewing.com/', 'updated_at': '2018-08-23T23:23:24.018Z', 'tag_list': []}, {'id': 253, 'name': \"Rapp's Barren Brewing Company\", 'brewery_type': 'micro', 'street': '1343 E 9th St', 'city': 'Mountain Home', 'state': 'Arkansas', 'postal_code': '72653-5050', 'country': 'United States', 'longitude': '-92.3599724', 'latitude': '36.3326432', 'phone': '8704247288', 'website_url': 'http://www.rappsbarrenbrewing.com', 'updated_at': '2018-08-23T23:23:29.428Z', 'tag_list': []}, {'id': 264, 'name': 'Whistleing Springs Brewing Company / Dark Hills Brewery', 'brewery_type': 'planning', 'street': '', 'city': 'Lowell', 'state': 'Arkansas', 'postal_code': '72745-9294', 'country': 'United States', 'longitude': '-94.1307587', 'latitude': '36.2553543', 'phone': '4792836365', 'website_url': 'http://www.darkhillsbrew.com', 'updated_at': '2018-08-23T23:23:40.468Z', 'tag_list': []}, {'id': 281, 'name': '7 Sisters Brewing Co', 'brewery_type': 'brewpub', 'street': '181 Tank Farm Rd Ste 110', 'city': 'San Luis Obispo', 'state': 'California', 'postal_code': '93401-7082', 'country': 'United States', 'longitude': '-120.670637530612', 'latitude': '35.2467277959184', 'phone': '8058687133', 'website_url': 'http://www.7sistersbrewing.com', 'updated_at': '2018-08-23T23:23:55.334Z', 'tag_list': []}, {'id': 286, 'name': 'Abnormal Beer Company', 'brewery_type': 'micro', 'street': '16990 Via Tazon Ste 123', 'city': 'San Diego', 'state': 'California', 'postal_code': '92127-1649', 'country': 'United States', 'longitude': '-117.08575', 'latitude': '33.02391', 'phone': '8586182463', 'website_url': 'http://abnormalbeer.co', 'updated_at': '2018-08-23T23:24:00.025Z', 'tag_list': []}, {'id': 305, 'name': 'Altamont Beer Works', 'brewery_type': 'micro', 'street': '2402 Research Dr', 'city': 'Livermore', 'state': 'California', 'postal_code': '94550-3850', 'country': 'United States', 'longitude': '-121.721097428074', 'latitude': '37.6783911404914', 'phone': '9254432337', 'website_url': 'http://www.altamontbeerworks.com', 'updated_at': '2018-08-23T23:24:16.819Z', 'tag_list': []}, {'id': 329, 'name': 'Auburn Alehouse', 'brewery_type': 'brewpub', 'street': '289 Washington St', 'city': 'Auburn', 'state': 'California', 'postal_code': '95603-5036', 'country': 'United States', 'longitude': '-121.078958250811', 'latitude': '38.8961210674875', 'phone': '5308852537', 'website_url': 'http://www.auburnalehouse.com', 'updated_at': '2018-08-23T23:24:41.928Z', 'tag_list': []}, {'id': 333, 'name': 'Back Street Brewery & Tasting Room', 'brewery_type': 'micro', 'street': '1884 S Santa Cruz St', 'city': 'Anaheim', 'state': 'California', 'postal_code': '92805-6726', 'country': 'United States', 'longitude': '-117.896089444444', 'latitude': '33.7998367777778', 'phone': '6572364050', 'website_url': 'http://www.backstreetbrew.com', 'updated_at': '2018-08-23T23:24:45.724Z', 'tag_list': []}, {'id': 361, 'name': 'Bear Republic Brewing Co Pub & Restaurant - Lakeside', 'brewery_type': 'brewpub', 'street': '5000 Roberts Lake Rd', 'city': 'Rohnert Park', 'state': 'California', 'postal_code': '94928', 'country': 'United States', 'longitude': '-122.7101405', 'latitude': '38.3649703', 'phone': '7075852722', 'website_url': 'http://bearrepublic.com', 'updated_at': '2018-08-23T23:25:11.314Z', 'tag_list': []}, {'id': 376, 'name': 'Bird Street Brewing', 'brewery_type': 'micro', 'street': '242 Heinlen St', 'city': 'Lemoore', 'state': 'California', 'postal_code': '93245-2947', 'country': 'United States', 'longitude': '-119.784711', 'latitude': '36.3014675555556', 'phone': '5593094649', 'website_url': 'http://www.birdstreetbrewing.com', 'updated_at': '2018-08-23T23:25:24.815Z', 'tag_list': []}, {'id': 385, 'name': 'Black Hammer Brewing', 'brewery_type': 'micro', 'street': '544 Bryant St', 'city': 'San Francisco', 'state': 'California', 'postal_code': '94107-1217', 'country': 'United States', 'longitude': '-122.3969947', 'latitude': '37.780655', 'phone': '4155002273', 'website_url': 'http://www.blackhammerbrewing.com', 'updated_at': '2018-08-23T23:25:33.033Z', 'tag_list': []}, {'id': 410, 'name': 'Brewbakers Brewing Co', 'brewery_type': 'brewpub', 'street': '219 E Main St', 'city': 'Visalia', 'state': 'California', 'postal_code': '93291-6355', 'country': 'United States', 'longitude': '-119.2906961', 'latitude': '36.3300786', 'phone': '5596272739', 'website_url': 'http://www.brewbakersbrewingco.com', 'updated_at': '2018-08-23T23:25:54.818Z', 'tag_list': []}, {'id': 425, 'name': 'Brewery in Planning - Los Angeles', 'brewery_type': 'planning', 'street': '', 'city': 'Los Angeles', 'state': 'California', 'postal_code': '90049-1620', 'country': 'United States', 'longitude': '-118.2427669', 'latitude': '34.0536834', 'phone': '3107796045', 'website_url': '', 'updated_at': '2018-08-23T23:26:04.273Z', 'tag_list': []}, {'id': 430, 'name': 'Brewery in Planning - San Diego', 'brewery_type': 'planning', 'street': '', 'city': 'San Diego', 'state': 'California', 'postal_code': '92121-4396', 'country': 'United States', 'longitude': '-117.1627714', 'latitude': '32.7174209', 'phone': '8588882188', 'website_url': 'http://WWW.gravityheights.com', 'updated_at': '2018-08-23T23:26:06.455Z', 'tag_list': []}, {'id': 437, 'name': 'Brewery Twenty Five', 'brewery_type': 'micro', 'street': '106 3rd St', 'city': 'Hollister', 'state': 'California', 'postal_code': '95023', 'country': 'United States', 'longitude': '-121.400836918367', 'latitude': '36.8535938163265', 'phone': '8316367640', 'website_url': 'http://www.brewerytwentyfive.com', 'updated_at': '2018-08-23T23:26:09.967Z', 'tag_list': []}, {'id': 456, 'name': 'Camino Brewing Co LLC', 'brewery_type': 'micro', 'street': '718 S 1st St', 'city': 'San Jose', 'state': 'California', 'postal_code': '95113', 'country': 'United States', 'longitude': '-121.882347823612', 'latitude': '37.3253017839889', 'phone': '', 'website_url': 'http://www.caminobrewing.com', 'updated_at': '2018-08-23T23:26:25.248Z', 'tag_list': []}, {'id': 479, 'name': 'Chula Vista Brewery', 'brewery_type': 'micro', 'street': '294 Third Ave', 'city': 'Chula Vista', 'state': 'California', 'postal_code': '91910-2701', 'country': 'United States', 'longitude': '-117.080369', 'latitude': '32.641495', 'phone': '6196168806', 'website_url': 'http://www.chulavistabrewery.com', 'updated_at': '2018-08-23T23:26:42.768Z', 'tag_list': []}, {'id': 54, 'name': 'Barnaby Brewing Company', 'brewery_type': 'micro', 'street': '206 N Franklin St', 'city': 'Juneau', 'state': 'Alaska', 'postal_code': '99801-1225', 'country': 'United States', 'longitude': '-134.407726539973', 'latitude': '58.3017758843016', 'phone': '9074190916', 'website_url': 'http://www.barnabybrew.com', 'updated_at': '2018-08-23T23:20:39.859Z', 'tag_list': []}, {'id': 489, 'name': \"Cloverdale Ale Company's Ruth McGowan's Brewpub\", 'brewery_type': 'brewpub', 'street': '131 E 1st St', 'city': 'Cloverdale', 'state': 'California', 'postal_code': '95425-3701', 'country': 'United States', 'longitude': '-123.016572852146', 'latitude': '38.8053232210103', 'phone': '7078949610', 'website_url': 'http://www.ruthmcgowansbrewpub.com', 'updated_at': '2018-08-23T23:26:51.276Z', 'tag_list': []}, {'id': 508, 'name': 'Craftsman Brewing Co', 'brewery_type': 'micro', 'street': '1260 Lincoln Ave Ste 100', 'city': 'Pasadena', 'state': 'California', 'postal_code': '91103-2465', 'country': 'United States', 'longitude': '-118.1595567', 'latitude': '34.1674435', 'phone': '6262962537', 'website_url': 'http://www.craftsmanbrewing.com', 'updated_at': '2018-08-23T23:27:07.240Z', 'tag_list': []}, {'id': 525, 'name': \"Devil's Potion Brewing Company LLC\", 'brewery_type': 'planning', 'street': '', 'city': 'Escondido', 'state': 'California', 'postal_code': '92026-3187', 'country': 'United States', 'longitude': '-117.0814849', 'latitude': '33.1216751', 'phone': '7605329091', 'website_url': 'http://www.devilspotion.com', 'updated_at': '2018-08-23T23:27:21.742Z', 'tag_list': []}, {'id': 543, 'name': 'Dry River Brewing', 'brewery_type': 'micro', 'street': '671 S Anderson St', 'city': 'Los Angeles', 'state': 'California', 'postal_code': '90023-1110', 'country': 'United States', 'longitude': '-118.223301521739', 'latitude': '34.0363873913043', 'phone': '2133755235', 'website_url': 'http://www.dryriverbrewing.com', 'updated_at': '2018-08-23T23:27:38.017Z', 'tag_list': []}, {'id': 562, 'name': 'Eight Bridges Brewing', 'brewery_type': 'micro', 'street': '332 Earhart Way', 'city': 'Livermore', 'state': 'California', 'postal_code': '94551-9309', 'country': 'United States', 'longitude': '-121.814589292069', 'latitude': '37.6989500360251', 'phone': '9259619160', 'website_url': 'http://www.eightbridgesbrewing.com', 'updated_at': '2018-08-23T23:27:54.121Z', 'tag_list': []}, {'id': 573, 'name': 'Eppig Brewing', 'brewery_type': 'micro', 'street': '3052 El Cajon Blvd Ste 103', 'city': 'San Diego', 'state': 'California', 'postal_code': '92104-1399', 'country': 'United States', 'longitude': '-117.128732', 'latitude': '32.755723', 'phone': '6195011840', 'website_url': 'http://www.eppigbrewing.com', 'updated_at': '2018-08-23T23:28:03.844Z', 'tag_list': []}, {'id': 574, 'name': 'Escape Craft Brewery', 'brewery_type': 'micro', 'street': '721 Nevada St Ste 401', 'city': 'Redlands', 'state': 'California', 'postal_code': '92373-8053', 'country': 'United States', 'longitude': '-117.217577166632', 'latitude': '34.0603401026307', 'phone': '9097133727', 'website_url': 'http://www.escapecraftbrewery.com', 'updated_at': '2018-08-23T23:28:04.869Z', 'tag_list': []}, {'id': 592, 'name': 'Fieldwork Brewing Co', 'brewery_type': 'regional', 'street': '1160 6th St', 'city': 'Berkeley', 'state': 'California', 'postal_code': '94710-1247', 'country': 'United States', 'longitude': '-122.302214696327', 'latitude': '37.88157297059', 'phone': '5108981203', 'website_url': 'http://www.fieldworkbrewing.com', 'updated_at': '2018-08-23T23:28:19.100Z', 'tag_list': []}, {'id': 612, 'name': 'Fort Point Beer Company', 'brewery_type': 'regional', 'street': '644 Mason St', 'city': 'San Francisco', 'state': 'California', 'postal_code': '94129-1600', 'country': 'United States', 'longitude': '-122.410227755102', 'latitude': '37.789461244898', 'phone': '4159064021', 'website_url': 'http://www.fortpointbeer.com', 'updated_at': '2018-08-23T23:28:36.026Z', 'tag_list': []}, {'id': 615, 'name': 'Fountainhead Brewing Co', 'brewery_type': 'micro', 'street': '4621 24th St', 'city': 'Sacramento', 'state': 'California', 'postal_code': '95822-1412', 'country': 'United States', 'longitude': '-121.483117319123', 'latitude': '38.5332279038371', 'phone': '9162284610', 'website_url': 'http://www.fountainheadbrewingco.com', 'updated_at': '2018-08-23T23:28:38.770Z', 'tag_list': []}, {'id': 623, 'name': 'Geartooth AleWerks', 'brewery_type': 'micro', 'street': '1635 S 7th St', 'city': 'San Jose', 'state': 'California', 'postal_code': '95112-5932', 'country': 'United States', 'longitude': '-121.866477333785', 'latitude': '37.315251291037', 'phone': '4084832679', 'website_url': 'http://www.geartoothalewerks.com', 'updated_at': '2018-08-23T23:28:45.233Z', 'tag_list': []}, {'id': 633, 'name': 'Golden State Brewery', 'brewery_type': 'micro', 'street': '1252 Memorex Dr', 'city': 'Santa Clara', 'state': 'California', 'postal_code': '95050-2812', 'country': 'United States', 'longitude': '-121.950316757586', 'latitude': '37.3625383916082', 'phone': '4087272337', 'website_url': 'http://www.goldenstate.beer', 'updated_at': '2018-08-23T23:28:53.181Z', 'tag_list': []}, {'id': 654, 'name': 'Hangar 24 Craft Brewery', 'brewery_type': 'regional', 'street': '1710 Sessums Dr', 'city': 'Redlands', 'state': 'California', 'postal_code': '92374-1909', 'country': 'United States', 'longitude': '-117.1419134', 'latitude': '34.0831712', 'phone': '9093891400', 'website_url': 'http://www.hangar24brewery.com', 'updated_at': '2018-08-23T23:29:10.400Z', 'tag_list': []}, {'id': 667, 'name': 'Hermitage Brewing Company', 'brewery_type': 'regional', 'street': '1627 S 7th St', 'city': 'San Jose', 'state': 'California', 'postal_code': '95112-5932', 'country': 'United States', 'longitude': '-121.866525688348', 'latitude': '37.3153140881948', 'phone': '4082910966', 'website_url': 'http://www.hermitagebrewing.com', 'updated_at': '2018-08-23T23:29:21.773Z', 'tag_list': []}, {'id': 669, 'name': 'High Water Brewing', 'brewery_type': 'proprietor', 'street': '', 'city': 'Stockton', 'state': 'California', 'postal_code': '95204-2943', 'country': 'United States', 'longitude': '-121.2907796', 'latitude': '37.9577016', 'phone': '5304409098', 'website_url': 'http://www.highwaterbrewing.com', 'updated_at': '2018-08-23T23:29:23.046Z', 'tag_list': []}, {'id': 682, 'name': 'Hop Secret Brewing Co', 'brewery_type': 'micro', 'street': '162 W Pomona Ave', 'city': 'Monrovia', 'state': 'California', 'postal_code': '91016-4558', 'country': 'United States', 'longitude': '-118.001973040816', 'latitude': '34.134155', 'phone': '', 'website_url': 'http://www.hopsecretbrewing.com', 'updated_at': '2018-08-23T23:29:32.990Z', 'tag_list': []}, {'id': 702, 'name': 'Indian Valley Brewing', 'brewery_type': 'micro', 'street': '14 Commercial Blvd Ste 125', 'city': 'Novato', 'state': 'California', 'postal_code': '94949-6110', 'country': 'United States', 'longitude': '-122.535014356985', 'latitude': '38.0682836733387', 'phone': '4153014983', 'website_url': 'http://www.indianvalleybrewing.com', 'updated_at': '2018-08-23T23:29:50.056Z', 'tag_list': []}, {'id': 116, 'name': 'Copper Hop Brewing Co/Copper Hop Ranch', 'brewery_type': 'micro', 'street': '', 'city': None, 'state': None, 'postal_code': None, 'country': 'United States', 'longitude': None, 'latitude': None, 'phone': '', 'website_url': 'http://www.copperhopranch.weebly.com', 'updated_at': '2018-07-24T01:32:48.873Z', 'tag_list': []}, {'id': 402, 'name': 'Border X', 'brewery_type': 'planning', 'street': '', 'city': None, 'state': None, 'postal_code': None, 'country': 'United States', 'longitude': None, 'latitude': None, 'phone': '', 'website_url': '', 'updated_at': '2018-07-24T01:32:52.847Z', 'tag_list': []}, {'id': 717, 'name': 'Jackrabbit Brewing Co', 'brewery_type': 'micro', 'street': '1323 Terminal St', 'city': 'West Sacramento', 'state': 'California', 'postal_code': '95691-3514', 'country': 'United States', 'longitude': '-121.54112', 'latitude': '38.5719882', 'phone': '2096120259', 'website_url': 'http://www.jackrabbitbrewingcompany.com', 'updated_at': '2018-08-23T23:58:06.289Z', 'tag_list': []}, {'id': 719, 'name': 'Jamul Brewing Co. - Production Only', 'brewery_type': 'micro', 'street': '3113 Calle Allejandro', 'city': 'Jamul', 'state': 'California', 'postal_code': '91935-3108', 'country': 'United States', 'longitude': '-116.87742', 'latitude': '32.709923', 'phone': '6195179829', 'website_url': 'http://www.jamulbrewingco.com', 'updated_at': '2018-08-23T23:58:08.091Z', 'tag_list': []}, {'id': 738, 'name': 'Karl Strauss Brewing Co - Universal CityWalk', 'brewery_type': 'brewpub', 'street': '1000 Universal Studios Blvd', 'city': 'Universal City', 'state': 'California', 'postal_code': '91608-1008', 'country': 'United States', 'longitude': '-118.3529336', 'latitude': '34.1322144', 'phone': '8187532739', 'website_url': 'http://www.karlstrauss.com', 'updated_at': '2018-08-23T23:58:24.659Z', 'tag_list': []}, {'id': 760, 'name': 'Laguna Beach Brewery and Grille', 'brewery_type': 'brewpub', 'street': '237 Ocean Ave', 'city': 'Laguna Beach', 'state': 'California', 'postal_code': '92651-2106', 'country': 'United States', 'longitude': '-117.7835382', 'latitude': '33.5427913', 'phone': '9494973381', 'website_url': 'http://www.lagunabeachbrewery.net', 'updated_at': '2018-08-23T23:58:43.812Z', 'tag_list': []}, {'id': 763, 'name': 'Lassen Ale Works @ The Pioneer Saloon', 'brewery_type': 'brewpub', 'street': '724 Main St', 'city': 'Susanville', 'state': 'California', 'postal_code': '96130-4372', 'country': 'United States', 'longitude': '-120.6326661', 'latitude': '40.4055904', 'phone': '5302577666', 'website_url': 'http://www.lassenaleworks.com', 'updated_at': '2018-08-23T23:58:46.626Z', 'tag_list': []}, {'id': 777, 'name': 'Libertine Brewing Company', 'brewery_type': 'brewpub', 'street': '1234 Broad St', 'city': 'San Luis Obispo', 'state': 'California', 'postal_code': '93401-3908', 'country': 'United States', 'longitude': '-120.6631926', 'latitude': '35.2777052', 'phone': '8057720700', 'website_url': 'http://www.libertinebrewing.com', 'updated_at': '2018-08-23T23:58:59.770Z', 'tag_list': []}, {'id': 786, 'name': 'Long Beach Beer Lab', 'brewery_type': 'micro', 'street': '518 W Willow St', 'city': 'Long Beach', 'state': 'California', 'postal_code': '90806-2831', 'country': 'United States', 'longitude': '-118.2156232', 'latitude': '33.8044209', 'phone': '5623413659', 'website_url': 'http://www.lbbeer.com', 'updated_at': '2018-08-23T23:59:07.444Z', 'tag_list': []}, {'id': 804, 'name': 'Magnolia Dogpatch', 'brewery_type': 'micro', 'street': '2505 3rd St', 'city': 'San Francisco', 'state': 'California', 'postal_code': '94107-3112', 'country': 'United States', 'longitude': '-122.3880818', 'latitude': '37.7577437', 'phone': '4158647468', 'website_url': 'http://www.magnoliasmokestack.com', 'updated_at': '2018-08-23T23:59:22.426Z', 'tag_list': []}, {'id': 809, 'name': 'Marin Brewing Co', 'brewery_type': 'brewpub', 'street': '1809 Larkspur Landing Cir', 'city': 'Larkspur', 'state': 'California', 'postal_code': '94939-1801', 'country': 'United States', 'longitude': '-122.5068874', 'latitude': '37.9458177', 'phone': '4154614677', 'website_url': 'http://www.marinbrewing.com', 'updated_at': '2018-08-23T23:59:26.600Z', 'tag_list': []}, {'id': 814, 'name': 'Mike Hess Brewing - Miramar', 'brewery_type': 'micro', 'street': '7955 Silverton Ave Ste 1201', 'city': 'San Diego', 'state': 'California', 'postal_code': '92126-6357', 'country': 'United States', 'longitude': '-117.151828378447', 'latitude': '32.8908008085346', 'phone': '6198876453', 'website_url': 'http://www.hessbrewing.com', 'updated_at': '2018-08-23T23:59:31.275Z', 'tag_list': []}, {'id': 831, 'name': 'Moonraker Brewing Company (Production Facility)', 'brewery_type': 'micro', 'street': '2349 Rickenbacker Way', 'city': 'Auburn', 'state': 'California', 'postal_code': '95602', 'country': 'United States', 'longitude': '-121.081368585457', 'latitude': '38.952499158384', 'phone': '5307456816', 'website_url': '', 'updated_at': '2018-08-23T23:59:46.490Z', 'tag_list': []}, {'id': 847, 'name': 'New English Brewing Co Inc', 'brewery_type': 'micro', 'street': '11545 Sorrento Valley Rd Ste 305', 'city': 'San Diego', 'state': 'California', 'postal_code': '92121-1322', 'country': 'United States', 'longitude': '-117.230519', 'latitude': '32.912641', 'phone': '6198578023', 'website_url': 'http://www.newenglishbrewing.com', 'updated_at': '2018-08-24T00:00:00.076Z', 'tag_list': []}, {'id': 851, 'name': 'Nickel Beer Co', 'brewery_type': 'micro', 'street': '1485 Hollow Glen Rd', 'city': 'Julian', 'state': 'California', 'postal_code': '92036', 'country': 'United States', 'longitude': '-116.590154368311', 'latitude': '33.0762994189637', 'phone': '7607652337', 'website_url': 'http://www.nickelbeerco.com', 'updated_at': '2018-08-24T00:00:03.198Z', 'tag_list': []}, {'id': 865, 'name': 'Oceanside Brewing Company', 'brewery_type': 'micro', 'street': '312 Via Del Norte', 'city': 'Oceanside', 'state': 'California', 'postal_code': '92058-1232', 'country': 'United States', 'longitude': '-117.352957287439', 'latitude': '33.2136973549748', 'phone': '7604537900', 'website_url': 'http://www.oceansidebrewingco.com', 'updated_at': '2018-08-24T00:00:15.739Z', 'tag_list': []}, {'id': 884, 'name': 'Old Stump Brewery', 'brewery_type': 'micro', 'street': '2896 Metropolitan Pl', 'city': 'Pomona', 'state': 'California', 'postal_code': '91767-1854', 'country': 'United States', 'longitude': '-117.754146518132', 'latitude': '34.0976380821684', 'phone': '9098609052', 'website_url': 'http://www.oldstumpbrewery.com', 'updated_at': '2018-08-24T00:00:31.940Z', 'tag_list': []}, {'id': 897, 'name': 'Palo Alto Brewing Co', 'brewery_type': 'contract', 'street': '1080B La Avenida St', 'city': 'Mountain View', 'state': 'California', 'postal_code': '94043-1422', 'country': 'United States', 'longitude': '-122.071765718906', 'latitude': '37.4132678904411', 'phone': '', 'website_url': 'http://www.paloaltobrewing.com', 'updated_at': '2018-08-24T00:00:43.305Z', 'tag_list': []}, {'id': 903, 'name': 'Pedro Point Brewing', 'brewery_type': 'micro', 'street': '55A Bill Drake Way', 'city': 'Pacifica', 'state': 'California', 'postal_code': '94044', 'country': 'United States', 'longitude': '-122.491021666667', 'latitude': '37.6511615833333', 'phone': '6502889149', 'website_url': 'http://www.pedropointbrewing.com', 'updated_at': '2018-08-24T00:00:47.756Z', 'tag_list': []}, {'id': 924, 'name': 'Port Brewing Co / The Lost Abbey', 'brewery_type': 'micro', 'street': '155 Mata Way Ste 104', 'city': 'San Marcos', 'state': 'California', 'postal_code': '92069-2983', 'country': 'United States', 'longitude': '-117.149141', 'latitude': '33.141537', 'phone': '8009186816', 'website_url': 'http://www.portbrewing.com', 'updated_at': '2018-08-24T00:01:07.397Z', 'tag_list': []}, {'id': 945, 'name': 'Right Eye Brewing Co', 'brewery_type': 'micro', 'street': '301 Spring St', 'city': 'Suisun City', 'state': 'California', 'postal_code': '94585', 'country': 'United States', 'longitude': '-122.041544', 'latitude': '38.242484', 'phone': '7074161347', 'website_url': 'http://www.righteyebrewing.com', 'updated_at': '2018-08-24T00:01:27.572Z', 'tag_list': []}, {'id': 964, 'name': 'Rouleur Brewing Company', 'brewery_type': 'micro', 'street': '5840 El Camino Real Ste 101', 'city': 'Carlsbad', 'state': 'California', 'postal_code': '92008-8804', 'country': 'United States', 'longitude': '-117.269558', 'latitude': '33.133904', 'phone': '4422445111', 'website_url': 'http://www.rouleurbrewing.com', 'updated_at': '2018-08-24T00:01:45.520Z', 'tag_list': []}, {'id': 990, 'name': 'Sante Adairius Rustic Ales', 'brewery_type': 'micro', 'street': '103 Kennedy Dr', 'city': 'Capitola', 'state': 'California', 'postal_code': '95010-3641', 'country': 'United States', 'longitude': '-121.9405748', 'latitude': '36.9822865', 'phone': '8313454867', 'website_url': 'http://www.rusticales.com', 'updated_at': '2018-08-24T00:02:11.049Z', 'tag_list': []}, {'id': 1001, 'name': 'Sequoia Brewing Co - Tower District', 'brewery_type': 'brewpub', 'street': '777 E Olive Ave', 'city': 'Fresno', 'state': 'California', 'postal_code': '93728-3350', 'country': 'United States', 'longitude': '-119.801962153846', 'latitude': '36.7577440769231', 'phone': '5592645521', 'website_url': 'http://www.sequoiabrewing.com', 'updated_at': '2018-08-24T00:02:21.148Z', 'tag_list': []}, {'id': 1030, 'name': 'Sonoma Springs Brewing Co', 'brewery_type': 'micro', 'street': '19449 Riverside Dr Ste 101', 'city': 'Sonoma', 'state': 'California', 'postal_code': '95476-6357', 'country': 'United States', 'longitude': '-122.477788', 'latitude': '38.294506', 'phone': '7079387422', 'website_url': 'http://www.sonomaspringsbrewing.com', 'updated_at': '2018-08-24T00:02:47.771Z', 'tag_list': []}, {'id': 1035, 'name': 'South Lake Brewing Company', 'brewery_type': 'micro', 'street': '1920 Lake Tahoe Blvd', 'city': 'South Lake Tahoe', 'state': 'California', 'postal_code': '96150-6307', 'country': 'United States', 'longitude': '-120.0074997', 'latitude': '38.9118004', 'phone': '5305780087', 'website_url': 'http://www.southlakebeer.com', 'updated_at': '2018-08-24T00:02:52.173Z', 'tag_list': []}, {'id': 1050, 'name': 'State Room Brewery', 'brewery_type': 'brewpub', 'street': '1132 4th St', 'city': 'San Rafael', 'state': 'California', 'postal_code': '94901-3007', 'country': 'United States', 'longitude': '-122.52865849686', 'latitude': '37.9732744779465', 'phone': '4152957929', 'website_url': 'http://stateroombrewery.com', 'updated_at': '2018-08-24T00:03:05.588Z', 'tag_list': []}, {'id': 1059, 'name': 'Stone Brewing World Bistro & Gardens- Liberty Station', 'brewery_type': 'brewpub', 'street': '2816 Historic Decatur Rd Ste 116', 'city': 'San Diego', 'state': 'California', 'postal_code': '92106-6164', 'country': 'United States', 'longitude': '-117.21157', 'latitude': '32.7405237', 'phone': '6192692200', 'website_url': 'http://www.stonelibertystation.com', 'updated_at': '2018-08-24T00:03:14.354Z', 'tag_list': []}, {'id': 1069, 'name': 'Sufferfest Beer Company', 'brewery_type': 'proprietor', 'street': '1770 UNION STREET', 'city': 'San Francisco', 'state': 'California', 'postal_code': '94123-3404', 'country': 'United States', 'longitude': '-122.428394714286', 'latitude': '37.7980748571429', 'phone': '4152386431', 'website_url': 'http://www.sufferfestbeer.com', 'updated_at': '2018-08-24T00:03:23.447Z', 'tag_list': []}, {'id': 1081, 'name': 'Tap and Vine', 'brewery_type': 'brewpub', 'street': '907 Lincoln Way', 'city': 'Auburn', 'state': 'California', 'postal_code': '95603', 'country': 'United States', 'longitude': '-121.06949555199', 'latitude': '38.8995673848688', 'phone': '5308898463', 'website_url': 'http://www.tapandvineauburn.com', 'updated_at': '2018-08-24T00:03:34.148Z', 'tag_list': []}, {'id': 1085, 'name': 'TAPS Fish House and Brewery - Brea', 'brewery_type': 'brewpub', 'street': '101 E Imperial Hwy', 'city': 'Brea', 'state': 'California', 'postal_code': '92821-4924', 'country': 'United States', 'longitude': '-117.9018387', 'latitude': '33.9171643', 'phone': '7142570101', 'website_url': 'http://www.tapsbrea.com', 'updated_at': '2018-08-24T00:03:37.619Z', 'tag_list': []}, {'id': 1101, 'name': 'The Dancing Fox', 'brewery_type': 'brewpub', 'street': '203 S School St', 'city': 'Lodi', 'state': 'California', 'postal_code': '95240-3511', 'country': 'United States', 'longitude': '-121.387849646574', 'latitude': '38.097198', 'phone': '2093662634', 'website_url': 'http://www.dancingfoxwinery.com', 'updated_at': '2018-08-24T00:03:51.456Z', 'tag_list': []}, {'id': 1123, 'name': 'Thunderhawk Alements', 'brewery_type': 'micro', 'street': '8675 Miralani Dr Ste 100', 'city': 'San Diego', 'state': 'California', 'postal_code': '92126-4355', 'country': 'United States', 'longitude': '-117.137466970906', 'latitude': '32.8957500613992', 'phone': '6199524832', 'website_url': 'http://thunderhawkbeer.com', 'updated_at': '2018-08-24T00:04:11.527Z', 'tag_list': []}, {'id': 1129, 'name': 'Topa Topa Brewing Co', 'brewery_type': 'micro', 'street': '104 E Thompson Blvd', 'city': 'Ventura', 'state': 'California', 'postal_code': '93001-2723', 'country': 'United States', 'longitude': '-119.299444632653', 'latitude': '34.2781592040816', 'phone': '8056289255', 'website_url': 'http://www.topatopabrewingco.com', 'updated_at': '2018-08-24T00:04:16.595Z', 'tag_list': []}, {'id': 1137, 'name': 'Track 7 Brewing Co - Natomas', 'brewery_type': 'micro', 'street': '826 Professor Ln Ste 100', 'city': 'Sacramento', 'state': 'California', 'postal_code': '95834-7743', 'country': 'United States', 'longitude': '-121.4908802', 'latitude': '38.6543681', 'phone': '9165204677', 'website_url': '', 'updated_at': '2018-08-24T00:04:22.907Z', 'tag_list': []}, {'id': 1154, 'name': 'Underground Brewing Co.', 'brewery_type': 'brewpub', 'street': '3940 Broad St # 7415', 'city': 'San Luis Obispo', 'state': 'California', 'postal_code': '93401-7017', 'country': 'United States', 'longitude': '-120.6420324', 'latitude': '35.2493387', 'phone': '', 'website_url': '', 'updated_at': '2018-08-24T00:04:37.276Z', 'tag_list': []}, {'id': 1158, 'name': 'Urban Roots Brewing', 'brewery_type': 'brewpub', 'street': '1322 V St', 'city': 'Sacramento', 'state': 'California', 'postal_code': '95818-1418', 'country': 'United States', 'longitude': '-121.49459077551', 'latitude': '38.5657962653061', 'phone': '9167063741', 'website_url': 'http://www.urbanrootsbrewing.com', 'updated_at': '2018-08-24T00:04:41.204Z', 'tag_list': []}, {'id': 1177, 'name': 'Wolf Creek Brewery', 'brewery_type': 'micro', 'street': '25108 Rye Canyon Loop', 'city': 'Valencia', 'state': 'California', 'postal_code': '91355-5004', 'country': 'United States', 'longitude': '-118.580786794735', 'latitude': '34.4555624289373', 'phone': '6612639653', 'website_url': '', 'updated_at': '2018-08-24T00:04:58.180Z', 'tag_list': []}, {'id': 155, 'name': 'Lonesome Valley Brewing', 'brewery_type': 'brewpub', 'street': '3040 N Windsong Dr Ste 101', 'city': 'Prescott Valley', 'state': 'Arizona', 'postal_code': '86314-2250', 'country': 'United States', 'longitude': None, 'latitude': None, 'phone': '9285153541', 'website_url': 'http://www.lonesomevalleybrewing.com', 'updated_at': '2018-08-11T21:35:48.469Z', 'tag_list': []}, {'id': 1180, 'name': 'Woods Bar & Brewery', 'brewery_type': 'brewpub', 'street': '1701 Telegraph Ave', 'city': 'Oakland', 'state': 'California', 'postal_code': '94612-2107', 'country': 'United States', 'longitude': '-122.2704253', 'latitude': '37.8069575', 'phone': '4155091695', 'website_url': 'http://www.woodsbeer.com', 'updated_at': '2018-08-24T00:05:00.969Z', 'tag_list': []}, {'id': 1182, 'name': 'Woods CervecerÃ\\xada', 'brewery_type': 'brewpub', 'street': '3801 18th St', 'city': 'San Francisco', 'state': 'California', 'postal_code': '94114-2615', 'country': 'United States', 'longitude': '-122.4285438', 'latitude': '37.761163', 'phone': '4152739295', 'website_url': 'http://www.cerveceriasf.com', 'updated_at': '2018-08-24T00:05:03.005Z', 'tag_list': []}, {'id': 1195, 'name': '3 Freaks Brewing Co', 'brewery_type': 'micro', 'street': '7140 E County Line Rd', 'city': 'Highlands Ranch', 'state': 'Colorado', 'postal_code': '80126-3926', 'country': 'United States', 'longitude': '-104.9426656', 'latitude': '39.5659575', 'phone': '7202990994', 'website_url': 'http://www.3freaksbrewery.com', 'updated_at': '2018-08-24T00:05:14.991Z', 'tag_list': []}, {'id': 1222, 'name': 'Barrels & Bottles Brewery', 'brewery_type': 'brewpub', 'street': '600 12th St Ste 160', 'city': 'Golden', 'state': 'Colorado', 'postal_code': '80401-6145', 'country': 'United States', 'longitude': '-105.2202098', 'latitude': '39.7562107', 'phone': '7203283643', 'website_url': 'http://www.barrelsbottles.com', 'updated_at': '2018-08-24T00:05:36.634Z', 'tag_list': []}, {'id': 1227, 'name': 'BierWerks', 'brewery_type': 'brewpub', 'street': '121 E. Midland Ave', 'city': 'Woodland Park', 'state': 'Colorado', 'postal_code': '80863', 'country': 'United States', 'longitude': '-105.0519462', 'latitude': '38.9941414', 'phone': '7196868100', 'website_url': 'http://www.bierwerks.com', 'updated_at': '2018-08-24T00:05:41.424Z', 'tag_list': []}, {'id': 1229, 'name': 'Big Choice Brewing Co', 'brewery_type': 'micro', 'street': '21 S 1st Ave', 'city': 'Brighton', 'state': 'Colorado', 'postal_code': '80601-1603', 'country': 'United States', 'longitude': '-104.822433', 'latitude': '39.9864294285714', 'phone': '3034692616', 'website_url': 'http://www.bigchoicebrewing.com', 'updated_at': '2018-08-24T00:05:43.462Z', 'tag_list': []}, {'id': 1333, 'name': 'Dodgeton Creek Brewing Co.', 'brewery_type': 'planning', 'street': '', 'city': 'Trinidad', 'state': 'Colorado', 'postal_code': '81082-9788', 'country': 'United States', 'longitude': '-104.5005411', 'latitude': '37.169397', 'phone': '7198462339', 'website_url': 'http://www.dodgetoncreek.com', 'updated_at': '2018-08-24T00:06:57.576Z', 'tag_list': []}]\n"
     ]
    }
   ],
   "source": [
    "print(breweries)"
   ]
  },
  {
   "cell_type": "code",
   "execution_count": 10,
   "metadata": {},
   "outputs": [
    {
     "name": "stdout",
     "output_type": "stream",
     "text": [
      "[{'id': 55, 'name': 'Bearpaw River Brewing Co', 'brewery_type': 'micro', 'street': '4605 E Palmer Wasilla Hwy', 'city': 'Wasilla', 'state': 'Alaska', 'postal_code': '99654-7679', 'country': 'United States', 'longitude': '-149.4127103', 'latitude': '61.5752695', 'phone': '', 'website_url': 'http://bearpawriverbrewing.com', 'updated_at': '2018-08-23T23:20:40.743Z', 'tag_list': []}, {'id': 76, 'name': 'King Street Brewing Co', 'brewery_type': 'micro', 'street': '9050 King Street', 'city': 'Anchorage', 'state': 'Alaska', 'postal_code': '99515', 'country': 'United States', 'longitude': '-149.879076042937', 'latitude': '61.1384893547315', 'phone': '9073365464', 'website_url': 'http://www.kingstreetbrewing.com', 'updated_at': '2018-08-23T23:20:57.179Z', 'tag_list': []}, {'id': 54, 'name': 'Barnaby Brewing Company', 'brewery_type': 'micro', 'street': '206 N Franklin St', 'city': 'Juneau', 'state': 'Alaska', 'postal_code': '99801-1225', 'country': 'United States', 'longitude': '-134.407726539973', 'latitude': '58.3017758843016', 'phone': '9074190916', 'website_url': 'http://www.barnabybrew.com', 'updated_at': '2018-08-23T23:20:39.859Z', 'tag_list': []}]\n",
      "3\n"
     ]
    }
   ],
   "source": [
    "alaska_breweries = []\n",
    "for brewery in breweries:\n",
    "    if brewery[\"state\"] == \"Alaska\":\n",
    "        alaska_breweries.append(brewery)\n",
    "print(alaska_breweries)\n",
    "print(len(alaska_breweries))"
   ]
  },
  {
   "cell_type": "markdown",
   "metadata": {},
   "source": [
    "### Q4: Of these 100 breweries, what are the different unique brewery types?"
   ]
  },
  {
   "cell_type": "code",
   "execution_count": 11,
   "metadata": {},
   "outputs": [
    {
     "name": "stdout",
     "output_type": "stream",
     "text": [
      "{'proprietor', 'regional', 'contract', 'planning', 'brewpub', 'micro'}\n"
     ]
    }
   ],
   "source": [
    "brewery_types = []\n",
    "for brewery in breweries:\n",
    "    brewery_types.append(brewery[\"brewery_type\"])\n",
    "print(set(brewery_types))"
   ]
  },
  {
   "cell_type": "markdown",
   "metadata": {},
   "source": [
    "### Q5: What is the cloest brewery to \"Devil's Potion Brewing Company LLC\" ?\n",
    "* Hint 1: Use Euclidian distance w/ longitude and latitude (assume longitude and latitude are a Carteisan coordinate system)\n",
    "* Hint 2: You'll have to ignore the entries with \"none\" for latitude or longitude"
   ]
  },
  {
   "cell_type": "code",
   "execution_count": 12,
   "metadata": {},
   "outputs": [],
   "source": [
    "brewery_locations = []\n",
    "for brewery in breweries:\n",
    "    brewery_locations.append(brewery[\"name\"])\n",
    "    brewery_locations.append(brewery[\"latitude\"])\n",
    "    brewery_locations.append(brewery[\"latitude\"])"
   ]
  },
  {
   "cell_type": "code",
   "execution_count": 13,
   "metadata": {},
   "outputs": [],
   "source": [
    "import scipy\n",
    "import pandas as pd\n",
    "import numpy as np\n",
    "from scipy.spatial.distance import euclidean"
   ]
  },
  {
   "cell_type": "code",
   "execution_count": 14,
   "metadata": {},
   "outputs": [
    {
     "name": "stdout",
     "output_type": "stream",
     "text": [
      "<class 'pandas.core.frame.DataFrame'>\n",
      "RangeIndex: 100 entries, 0 to 99\n",
      "Data columns (total 14 columns):\n",
      "brewery_type    100 non-null object\n",
      "city            98 non-null object\n",
      "country         100 non-null object\n",
      "id              100 non-null int64\n",
      "latitude        97 non-null object\n",
      "longitude       97 non-null object\n",
      "name            100 non-null object\n",
      "phone           100 non-null object\n",
      "postal_code     98 non-null object\n",
      "state           98 non-null object\n",
      "street          100 non-null object\n",
      "tag_list        100 non-null object\n",
      "updated_at      100 non-null object\n",
      "website_url     100 non-null object\n",
      "dtypes: int64(1), object(13)\n",
      "memory usage: 11.0+ KB\n"
     ]
    }
   ],
   "source": [
    "brewery_df = pd.DataFrame(breweries)\n",
    "brewery_df.info()"
   ]
  },
  {
   "cell_type": "code",
   "execution_count": 15,
   "metadata": {
    "scrolled": true
   },
   "outputs": [],
   "source": [
    "breweries_lat_lon = brewery_df[[\"name\", \"latitude\", \"longitude\"]].copy()"
   ]
  },
  {
   "cell_type": "code",
   "execution_count": 16,
   "metadata": {
    "scrolled": false
   },
   "outputs": [],
   "source": [
    "breweries_lat_lon.dropna()\n",
    "breweries_lat_lon[\"latitude\"] = pd.to_numeric(breweries_lat_lon[\"latitude\"])\n",
    "breweries_lat_lon[\"longitude\"] = pd.to_numeric(breweries_lat_lon[\"longitude\"])"
   ]
  },
  {
   "cell_type": "code",
   "execution_count": 17,
   "metadata": {},
   "outputs": [
    {
     "name": "stdout",
     "output_type": "stream",
     "text": [
      "<class 'pandas.core.frame.DataFrame'>\n",
      "RangeIndex: 100 entries, 0 to 99\n",
      "Data columns (total 3 columns):\n",
      "name         100 non-null object\n",
      "latitude     97 non-null float64\n",
      "longitude    97 non-null float64\n",
      "dtypes: float64(2), object(1)\n",
      "memory usage: 2.4+ KB\n",
      "                                                 name   latitude   longitude\n",
      "0                                 Avondale Brewing Co  33.524521  -86.774322\n",
      "1                    Band of Brothers Brewing Company  33.198491  -87.562155\n",
      "2                                    Trim Tab Brewing  33.512849  -86.791400\n",
      "3                                Yellowhammer Brewery  34.727752  -86.593201\n",
      "4                            Bearpaw River Brewing Co  61.575269 -149.412710\n",
      "5                              King Street Brewing Co  61.138489 -149.879076\n",
      "6                                        1912 Brewing  32.246737 -110.992751\n",
      "7                                   Bad Water Brewing  33.497262 -111.924474\n",
      "8                 BJs Restaurant & Brewery - Chandler  33.305346 -111.911126\n",
      "9                                   BlackRock Brewers  32.201608 -110.821779\n",
      "10                                 Dragoon Brewing Co  32.250495 -111.005452\n",
      "11                       Grand Canyon Brewing Company  35.250028 -112.189217\n",
      "12                                Mudshark Brewing Co  34.468974 -114.342433\n",
      "13                                   Richter Aleworks  33.668774 -112.238054\n",
      "14                                  SanTan Brewing Co  33.303244 -111.842346\n",
      "15                                   State 48 Brewery  33.638221 -112.357814\n",
      "16                         Wren House Brewing Company  33.516633 -112.030113\n",
      "17        Brick Oven Pizza Co / Brick & Forge Brewing  36.031636  -90.520480\n",
      "18                            Diamond Bear Brewing Co  34.759428  -92.272689\n",
      "19                                 Lost Forty Brewing  34.742845  -92.260019\n",
      "20                      Rapp's Barren Brewing Company  36.332643  -92.359972\n",
      "21  Whistleing Springs Brewing Company / Dark Hill...  36.255354  -94.130759\n",
      "22                               7 Sisters Brewing Co  35.246728 -120.670638\n",
      "23                              Abnormal Beer Company  33.023910 -117.085750\n",
      "24                                Altamont Beer Works  37.678391 -121.721097\n",
      "25                                    Auburn Alehouse  38.896121 -121.078958\n",
      "26                 Back Street Brewery & Tasting Room  33.799837 -117.896089\n",
      "27  Bear Republic Brewing Co Pub & Restaurant - La...  38.364970 -122.710141\n",
      "28                                Bird Street Brewing  36.301468 -119.784711\n",
      "29                               Black Hammer Brewing  37.780655 -122.396995\n",
      "..                                                ...        ...         ...\n",
      "70                                  Old Stump Brewery  34.097638 -117.754147\n",
      "71                               Palo Alto Brewing Co  37.413268 -122.071766\n",
      "72                                Pedro Point Brewing  37.651162 -122.491022\n",
      "73                   Port Brewing Co / The Lost Abbey  33.141537 -117.149141\n",
      "74                               Right Eye Brewing Co  38.242484 -122.041544\n",
      "75                            Rouleur Brewing Company  33.133904 -117.269558\n",
      "76                         Sante Adairius Rustic Ales  36.982287 -121.940575\n",
      "77                Sequoia Brewing Co - Tower District  36.757744 -119.801962\n",
      "78                          Sonoma Springs Brewing Co  38.294506 -122.477788\n",
      "79                         South Lake Brewing Company  38.911800 -120.007500\n",
      "80                                 State Room Brewery  37.973274 -122.528658\n",
      "81  Stone Brewing World Bistro & Gardens- Liberty ...  32.740524 -117.211570\n",
      "82                            Sufferfest Beer Company  37.798075 -122.428395\n",
      "83                                       Tap and Vine  38.899567 -121.069496\n",
      "84                 TAPS Fish House and Brewery - Brea  33.917164 -117.901839\n",
      "85                                    The Dancing Fox  38.097198 -121.387850\n",
      "86                               Thunderhawk Alements  32.895750 -117.137467\n",
      "87                               Topa Topa Brewing Co  34.278159 -119.299445\n",
      "88                       Track 7 Brewing Co - Natomas  38.654368 -121.490880\n",
      "89                            Underground Brewing Co.  35.249339 -120.642032\n",
      "90                                Urban Roots Brewing  38.565796 -121.494591\n",
      "91                                 Wolf Creek Brewery  34.455562 -118.580787\n",
      "92                            Lonesome Valley Brewing        NaN         NaN\n",
      "93                                Woods Bar & Brewery  37.806958 -122.270425\n",
      "94                                  Woods CervecerÃ­a  37.761163 -122.428544\n",
      "95                                3 Freaks Brewing Co  39.565958 -104.942666\n",
      "96                          Barrels & Bottles Brewery  39.756211 -105.220210\n",
      "97                                          BierWerks  38.994141 -105.051946\n",
      "98                              Big Choice Brewing Co  39.986429 -104.822433\n",
      "99                         Dodgeton Creek Brewing Co.  37.169397 -104.500541\n",
      "\n",
      "[100 rows x 3 columns]\n"
     ]
    }
   ],
   "source": [
    "breweries_lat_lon.info()\n",
    "print(breweries_lat_lon)"
   ]
  },
  {
   "cell_type": "code",
   "execution_count": 18,
   "metadata": {},
   "outputs": [],
   "source": [
    "devils_potion = []\n",
    "for index, row in breweries_lat_lon.iterrows():\n",
    "    if row[\"name\"] == \"Devil's Potion Brewing Company LLC\":\n",
    "        latitude = row['latitude']\n",
    "        longitude = row['longitude']\n",
    "        devils_potion.append(latitude)\n",
    "        devils_potion.append(longitude)\n"
   ]
  },
  {
   "cell_type": "code",
   "execution_count": 19,
   "metadata": {},
   "outputs": [],
   "source": [
    "# distances_to_devil = []\n",
    "# for index, row in breweries_lat_lon.iterrows():\n",
    "#     latitude = row['latitude']\n",
    "#     longitude = row['longitude']\n",
    "#     lat_dis = devils_potion[0] - latitude\n",
    "#     lon_dis = devils_potion[1] - longitude\n",
    "#     euclidean_distance = [latitude, longitude]\n",
    "#     distance = scipy.spatial.distance.euclidean(latitude, longitude)\n",
    "#     distances_to_devil.append(distance)"
   ]
  },
  {
   "cell_type": "code",
   "execution_count": 20,
   "metadata": {},
   "outputs": [
    {
     "data": {
      "text/plain": [
       "0    30.309840\n",
       "1    29.519430\n",
       "2    30.292611\n",
       "3    30.530557\n",
       "4    43.068726\n",
       "Name: distance, dtype: float64"
      ]
     },
     "execution_count": 20,
     "metadata": {},
     "output_type": "execute_result"
    }
   ],
   "source": [
    "brewery_df['distance'] = (breweries_lat_lon[['latitude', 'longitude']].sub(np.array(devils_potion))).pow(2).sum(1).pow(0.5)\n",
    "\n",
    "brewery_df['distance'].head()\n",
    "\n",
    "\n"
   ]
  },
  {
   "cell_type": "markdown",
   "metadata": {},
   "source": [
    "### Q6: Write a function to find the closest brewery to any other given brewery"
   ]
  },
  {
   "cell_type": "code",
   "execution_count": 22,
   "metadata": {},
   "outputs": [
    {
     "name": "stdout",
     "output_type": "stream",
     "text": [
      "     latitude  longitude\n",
      "0    0.000000   0.000000\n",
      "1    0.326030   0.787833\n",
      "2    0.011672   0.017078\n",
      "3    1.203231   0.181121\n",
      "4   28.050748  62.638388\n",
      "5   27.613968  63.104754\n",
      "6    1.277784  24.218429\n",
      "7    0.027259  25.150152\n",
      "8    0.219175  25.136804\n",
      "9    1.322913  24.047457\n",
      "10   1.274026  24.231130\n",
      "11   1.725507  25.414895\n",
      "12   0.944453  27.568111\n",
      "13   0.144253  25.463732\n",
      "14   0.221277  25.068024\n",
      "15   0.113700  25.583492\n",
      "16   0.007888  25.255791\n",
      "17   2.507115   3.746158\n",
      "18   1.234907   5.498367\n",
      "19   1.218324   5.485697\n",
      "20   2.808122   5.585650\n",
      "21   2.730833   7.356437\n",
      "22   1.722207  33.896316\n",
      "23   0.500611  30.311428\n",
      "24   4.153870  34.946775\n",
      "25   5.371600  34.304636\n",
      "26   0.275316  31.121767\n",
      "27   4.840449  35.935819\n",
      "28   2.776947  33.010389\n",
      "29   4.256134  35.622673\n",
      "..        ...        ...\n",
      "70   0.573117  30.979825\n",
      "71   3.888747  35.297444\n",
      "72   4.126641  35.716700\n",
      "73   0.382984  30.374819\n",
      "74   4.717963  35.267222\n",
      "75   0.390617  30.495236\n",
      "76   3.457766  35.166253\n",
      "77   3.233223  33.027640\n",
      "78   4.769985  35.703466\n",
      "79   5.387279  33.233178\n",
      "80   4.448753  35.754336\n",
      "81   0.783997  30.437248\n",
      "82   4.273554  35.654073\n",
      "83   5.375046  34.295174\n",
      "84   0.392643  31.127517\n",
      "85   4.572677  34.613528\n",
      "86   0.628771  30.363145\n",
      "87   0.753638  32.525123\n",
      "88   5.129847  34.716558\n",
      "89   1.724818  33.867710\n",
      "90   5.041275  34.720269\n",
      "91   0.931041  31.806465\n",
      "92        NaN        NaN\n",
      "93   4.282437  35.496103\n",
      "94   4.236642  35.654222\n",
      "95   6.041437  18.168344\n",
      "96   6.231690  18.445888\n",
      "97   5.469620  18.277624\n",
      "98   6.461908  18.048111\n",
      "99   3.644876  17.726219\n",
      "\n",
      "[100 rows x 2 columns]\n"
     ]
    }
   ],
   "source": [
    "def distance_to_any(a_brewery):\n",
    "    closest_from = []\n",
    "    distance = 0\n",
    "    for index, row in breweries_lat_lon.iterrows():\n",
    "        if row[\"name\"] == a_brewery:\n",
    "            latitude = row['latitude']\n",
    "            longitude = row['longitude']\n",
    "            closest_from.append(latitude)\n",
    "            closest_from.append(longitude)\n",
    "    distance = (breweries_lat_lon[['latitude', 'longitude']].sub(np.array(closest_from))).pow(2).pow(0.5)\n",
    "    return distance \n",
    "\n",
    "print(distance_to_any('Avondale Brewing Co'))\n",
    "\n",
    "\n"
   ]
  },
  {
   "cell_type": "markdown",
   "metadata": {},
   "source": [
    "### Q7: How would you get the first 10 pages from this API and put them all together using a for loop?"
   ]
  },
  {
   "cell_type": "code",
   "execution_count": 178,
   "metadata": {},
   "outputs": [
    {
     "name": "stdout",
     "output_type": "stream",
     "text": [
      "https://api.openbrewerydb.org/breweries?page=2&per_page=50\n"
     ]
    }
   ],
   "source": [
    "url_api = url = 'https://api.openbrewerydb.org/breweries?page=1&per_page=50'\n",
    "ten_urls = []\n",
    "for letter in url_api:\n",
    "    if letter == \"1\":\n",
    "        other_letter = int(letter)\n",
    "        new_letter = other_letter + 1\n",
    "        replace = str(new_letter)\n",
    "        print(url_api.replace(letter, replace))\n"
   ]
  },
  {
   "cell_type": "markdown",
   "metadata": {},
   "source": [
    "# Crime in the UK"
   ]
  },
  {
   "cell_type": "markdown",
   "metadata": {},
   "source": [
    "### We will be analyzing different crimes reported in the UK as provided by https://data.police.uk/docs/"
   ]
  },
  {
   "cell_type": "markdown",
   "metadata": {},
   "source": [
    "# Exploratory analysis\n",
    "##### 1. How many total crimes were there at latitude : 52.63902 and -1.131321 on November of 2017.\n",
    "Use the street level crimes data, the documentation for the API can be found at https://data.police.uk/docs/method/crime-street/"
   ]
  },
  {
   "cell_type": "code",
   "execution_count": 164,
   "metadata": {},
   "outputs": [],
   "source": [
    "import json\n",
    "import requests\n",
    "import pandas as pd\n",
    "import numpy as np"
   ]
  },
  {
   "cell_type": "code",
   "execution_count": 173,
   "metadata": {},
   "outputs": [
    {
     "name": "stdout",
     "output_type": "stream",
     "text": [
      "200\n"
     ]
    }
   ],
   "source": [
    "url = 'https://data.police.uk/api/crime-categories?'\n",
    "date = {\n",
    "        \"date\": \"2017-11\",\n",
    "    }\n",
    "\n",
    "url_params = {\n",
    "        \"lat\": \"52.63902\",\n",
    "        \"lng\": \"-1.131321\"\n",
    "            }\n",
    "response = requests.get(url)\n",
    "print(response.status_code)"
   ]
  },
  {
   "cell_type": "code",
   "execution_count": 189,
   "metadata": {},
   "outputs": [
    {
     "ename": "AttributeError",
     "evalue": "'list' object has no attribute 'slice'",
     "output_type": "error",
     "traceback": [
      "\u001b[0;31m\u001b[0m",
      "\u001b[0;31mAttributeError\u001b[0mTraceback (most recent call last)",
      "\u001b[0;32m<ipython-input-189-d7a8ac702e75>\u001b[0m in \u001b[0;36m<module>\u001b[0;34m()\u001b[0m\n\u001b[1;32m      1\u001b[0m \u001b[0mresponse_json\u001b[0m \u001b[0;34m=\u001b[0m \u001b[0mresponse\u001b[0m\u001b[0;34m.\u001b[0m\u001b[0mjson\u001b[0m\u001b[0;34m(\u001b[0m\u001b[0;34m)\u001b[0m\u001b[0;34m\u001b[0m\u001b[0m\n\u001b[0;32m----> 2\u001b[0;31m \u001b[0mresponse_json\u001b[0m \u001b[0;34m=\u001b[0m \u001b[0mresponse_json\u001b[0m\u001b[0;34m.\u001b[0m\u001b[0mslice\u001b[0m\u001b[0;34m(\u001b[0m\u001b[0;36m2\u001b[0m\u001b[0;34m,\u001b[0m\u001b[0;34m-\u001b[0m\u001b[0;36m1\u001b[0m\u001b[0;34m)\u001b[0m\u001b[0;34m\u001b[0m\u001b[0m\n\u001b[0m",
      "\u001b[0;31mAttributeError\u001b[0m: 'list' object has no attribute 'slice'"
     ]
    }
   ],
   "source": [
    "response_json = response.json()\n",
    "response_json = response_json.slice(2,-1)"
   ]
  },
  {
   "cell_type": "markdown",
   "metadata": {},
   "source": [
    "##### 2. We've queried the API once, but it could get annoying to retype the url over and over again, create a function `make_api_request` that enables you to query the API.\n",
    "\n",
    "\n",
    " The parameters for the function should be:\n",
    "* lat (float) : latitude\n",
    "* lng (float) : longitude\n",
    "* date (string): Date in the format YYYY-MM\n",
    "    * default value = `None`\n",
    "    \n",
    "And it should return a json object of \n",
    "\n",
    "for more information on default values check out http://blog.thedigitalcatonline.com/blog/2015/02/11/default-arguments-in-python/"
   ]
  },
  {
   "cell_type": "code",
   "execution_count": null,
   "metadata": {},
   "outputs": [],
   "source": [
    "\n"
   ]
  },
  {
   "cell_type": "markdown",
   "metadata": {},
   "source": [
    "##### 3. Write a function `categories_of_crime` that will determine the count of each type of crime for a given latitude and longitude. This is labelled as 'category' in the records. Your function should call the `make_api_request` function you created.\n",
    "\n",
    "The parameters for the function should be:\n",
    "\n",
    "* lat (float) : latitude\n",
    "* lng (float) : longitude\n",
    "* date (str) default = None\n",
    "\n",
    "The function should return:\n",
    "* a dictionary with the count of each type of crime\n",
    "\n",
    "\n",
    "\n",
    "Once you've created the function, try it with these locations\n",
    "* lat, lng of 51.5017861,-0.1432319   (Buckingham Palace)\n",
    "* lat, lng of 53.480161, -2.245163     (Manchester)"
   ]
  },
  {
   "cell_type": "code",
   "execution_count": null,
   "metadata": {},
   "outputs": [],
   "source": [
    "\n"
   ]
  },
  {
   "cell_type": "markdown",
   "metadata": {},
   "source": [
    "**Bonus**: \n",
    "* Write a function that determines the difference between Buckingham Palace and Manchester in terms of the number of crimes in each category.\n",
    "    * In which category is there the largest absolute difference between the category of crime?\n",
    "* Create a histogram depiction of the categories of crime"
   ]
  },
  {
   "cell_type": "code",
   "execution_count": null,
   "metadata": {},
   "outputs": [],
   "source": [
    "\n"
   ]
  },
  {
   "cell_type": "markdown",
   "metadata": {},
   "source": [
    "##### 4. Create a function `find_outcome_statuses` that will determine outcome statuses for a given latitude and longitude and date (optional)?\n",
    "Investigate the data to determine where the outcome statuses are located.\n",
    "\n",
    "**NOTE**: You'll notice that some of these crimes do not have crime outcomes. Make these into the category of \"Not Resolved.\"\n",
    "\n",
    "**NOTE 2**: These might take a long time to execute if you do not specify a month\n",
    "\n",
    "**Bonus**: What is the ratio of crimes investigated to those not investigated? Is it higher near London or Manchester?"
   ]
  },
  {
   "cell_type": "code",
   "execution_count": null,
   "metadata": {},
   "outputs": [],
   "source": [
    "\n"
   ]
  },
  {
   "cell_type": "markdown",
   "metadata": {},
   "source": [
    "##### 5. Write a function `month_highest_crimes` that will return the month that had the highest number of crimes for a latitude, longitude and a year.\n",
    "\n",
    "Inputs\n",
    "* lat (float) : latitude\n",
    "* lng (float) : longitude\n",
    "* year (str) : in the format YYYY\n",
    "\n",
    "Output\n",
    "* month with highest crime (int)\n",
    "\n",
    "**Bonus** Make a graph of how the number of crimes changed over time for a year. This will likely require a new function. Is seasonality a factor? Do the type of crimes change over time?"
   ]
  },
  {
   "cell_type": "code",
   "execution_count": null,
   "metadata": {},
   "outputs": [],
   "source": [
    "\n"
   ]
  },
  {
   "cell_type": "markdown",
   "metadata": {},
   "source": [
    "### Bonus Open Ended Questions\n",
    "\n",
    "1. Take a look at the https://data.police.uk/docs/method/stops-street/ API. Is there a correlation between gender and being stopped and searched? How about race and being stopped and searched?"
   ]
  },
  {
   "cell_type": "code",
   "execution_count": null,
   "metadata": {},
   "outputs": [],
   "source": [
    "\n"
   ]
  }
 ],
 "metadata": {
  "kernelspec": {
   "display_name": "Python 3",
   "language": "python",
   "name": "python3"
  },
  "language_info": {
   "codemirror_mode": {
    "name": "ipython",
    "version": 3
   },
   "file_extension": ".py",
   "mimetype": "text/x-python",
   "name": "python",
   "nbconvert_exporter": "python",
   "pygments_lexer": "ipython3",
   "version": "3.6.6"
  }
 },
 "nbformat": 4,
 "nbformat_minor": 2
}
